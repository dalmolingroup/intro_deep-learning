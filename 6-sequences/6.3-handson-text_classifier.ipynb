{
 "cells": [
  {
   "cell_type": "code",
   "execution_count": 1,
   "id": "277c3dd3-9597-4731-9051-340815c9517b",
   "metadata": {},
   "outputs": [
    {
     "name": "stderr",
     "output_type": "stream",
     "text": [
      "2024-11-27 12:21:58.113334: I tensorflow/core/platform/cpu_feature_guard.cc:210] This TensorFlow binary is optimized to use available CPU instructions in performance-critical operations.\n",
      "To enable the following instructions: AVX2 FMA, in other operations, rebuild TensorFlow with the appropriate compiler flags.\n",
      "2024-11-27 12:21:59.131521: W tensorflow/compiler/tf2tensorrt/utils/py_utils.cc:38] TF-TRT Warning: Could not find TensorRT\n"
     ]
    }
   ],
   "source": [
    "import os\n",
    "import numpy as np\n",
    "import matplotlib.pyplot as plt\n",
    "\n",
    "from tensorflow import keras\n",
    "from tensorflow.keras import layers"
   ]
  },
  {
   "cell_type": "markdown",
   "id": "56e02c34-a721-4728-a8f5-22efd2f5209e",
   "metadata": {},
   "source": [
    "### __1. Import and data pre-processing:__\n",
    "<font size=3>\n",
    "\n",
    "For our natural language processing task, we will focus on text classification in sentiment analysis using the [IMDB movie reviews](https://keras.io/api/datasets/imdb/) dataset. To download the text reviews, click [here](http://mng.bz/0tIo)."
   ]
  },
  {
   "cell_type": "code",
   "execution_count": 2,
   "id": "a7fa56b8-68e0-4f5d-b001-2f9a0b2ae6d5",
   "metadata": {},
   "outputs": [
    {
     "data": {
      "text/plain": [
       "(50000, 50000)"
      ]
     },
     "execution_count": 2,
     "metadata": {},
     "output_type": "execute_result"
    }
   ],
   "source": [
    "# import the texts:\n",
    "\n",
    "'''\n",
    "The texts are separated into positive (25000) and negative reviews (25000).\n",
    "Let's take all together to split them into train, validation, and test arrays.\n",
    "'''\n",
    "\n",
    "path = \"../dataset/aclImdb/\"\n",
    "\n",
    "texts, labels = [], []\n",
    "\n",
    "for data in [\"train/\", \"test/\"]:\n",
    "    for label in [\"pos/\", \"neg/\"]:\n",
    "            \n",
    "        for file in os.listdir(path+data+label):\n",
    "            with open(path+data+label+file, \"r\") as f:\n",
    "                texts.append(f.read())\n",
    "                \n",
    "                if label == \"pos/\": labels.append(1)\n",
    "                else: labels.append(0)\n",
    "\n",
    "len(texts), len(labels)"
   ]
  },
  {
   "cell_type": "code",
   "execution_count": 3,
   "id": "ce9141d1-050f-426e-98cc-dda72f5ca46a",
   "metadata": {},
   "outputs": [
    {
     "name": "stderr",
     "output_type": "stream",
     "text": [
      "2024-11-27 12:22:01.999126: E external/local_xla/xla/stream_executor/cuda/cuda_driver.cc:282] failed call to cuInit: CUDA_ERROR_NO_DEVICE: no CUDA-capable device is detected\n"
     ]
    },
    {
     "name": "stdout",
     "output_type": "stream",
     "text": [
      "Vocabulary size: 10000\n",
      "Top 10 vocabulary tokens: ['', '[UNK]', 'the', 'and', 'a', 'of', 'to', 'is', 'in', 'it']\n"
     ]
    }
   ],
   "source": [
    "# vectorizing the texts to obtain their words as indexes of the \"vocab\" array:\n",
    "\n",
    "vocab_size = 10000 # If vocab_size=None, TextVectorization() will consider all words from \"texts\"\n",
    "max_len = 200 # maximum size of a sentence\n",
    "\n",
    "vectorize = layers.TextVectorization(max_tokens=vocab_size,  \n",
    "                                     standardize='lower_and_strip_punctuation', \n",
    "                                     split='whitespace',\n",
    "                                     output_mode='int',\n",
    "                                     output_sequence_length=max_len)\n",
    "\n",
    "vectorize.adapt(texts)\n",
    "\n",
    "vocab = vectorize.get_vocabulary()\n",
    "\n",
    "# [UNK] = unknown word\n",
    "print(\"Vocabulary size:\", vectorize.vocabulary_size())\n",
    "print(\"Top 10 vocabulary tokens:\", vocab[:10])"
   ]
  },
  {
   "cell_type": "code",
   "execution_count": 4,
   "id": "6513372c-c4c2-4ff9-9270-e140d53b8439",
   "metadata": {},
   "outputs": [
    {
     "name": "stdout",
     "output_type": "stream",
     "text": [
      "(11 - This) (7 - is) (4 - a) (53 - very) (1302 - rare) (464 - example) (5 - of) (4 - a) (18 - movie) (43 - about) (1 - transvestitism) (5 - (of) (1 - heterosexuals).) (2 - The) (20 - film) (4407 - treats) (2 - the) (6991 - taboo) (758 - theme) (38 - so) (12 - that) (55 - even) (4 - a) (810 - general) (309 - audience) (22 - not) (1289 - knowing) (5 - of) (1 - transvestitism) (31 - at) (32 - all) (77 - will) (2172 - strongly) (6415 - sympathize) (16 - with) (30 - its) (270 - main) (109 - character.) (7149 - Adrian) (1 - Pasdar) (7 - is) (53 - very) (841 - believable) (15 - as) (1 - Gerald/Geraldine) (3 - and) (3277 - shall) (22 - not) (27 - be) (2474 - forgot) (17 - for) (11 - this) (1 - brillant) (112 - acting.) (2 - The) (967 - directing) (5 - of) (1417 - Christopher) (1 - Monger) (7 - is) (53 - very) (1 - sensitively,) (8729 - treating) (137 - such) (4 - a) (852 - difficult) (1806 - issue) (177 - quite) (7191 - excellently,) (3443 - packed) (82 - into) (4 - a) (50 - good) (67 - story.) (22 - Not) (4 - a) (192 - big) (18 - movie,) (1070 - neither) (34 - an) (536 - \"art\") (20 - film,) (19 - but) (4 - a) (116 - little,) (1275 - lovely) (1440 - motion) (435 - picture!) "
     ]
    }
   ],
   "source": [
    "# one sentence example:\n",
    "i = 0\n",
    "for word, vec in zip(texts[i].split(), vectorize(texts[i])):\n",
    "    print(f\"({vec.numpy()} - {word})\", end=\" \")\n",
    "    "
   ]
  },
  {
   "cell_type": "code",
   "execution_count": 5,
   "id": "7e996e59-48fb-4783-b8fb-474d064c4420",
   "metadata": {},
   "outputs": [
    {
     "name": "stdout",
     "output_type": "stream",
     "text": [
      "x:(50000, 200), y:(50000, 1)\n"
     ]
    }
   ],
   "source": [
    "# (x, y) dataset:\n",
    "x = vectorize(texts).numpy()\n",
    "y = np.expand_dims(labels, axis=-1)\n",
    "\n",
    "# shuffing the data:\n",
    "N_sentences = len(x)\n",
    "\n",
    "i = np.random.permutation(N_sentences)\n",
    "\n",
    "x = x[i]\n",
    "y = y[i]\n",
    "\n",
    "texts = np.array(texts)[i]\n",
    "\n",
    "print(f\"x:{x.shape}, y:{y.shape}\")"
   ]
  },
  {
   "cell_type": "code",
   "execution_count": 6,
   "id": "6922ba8b-ceae-40f6-8ad6-ce91cf4155c8",
   "metadata": {},
   "outputs": [
    {
     "name": "stdout",
     "output_type": "stream",
     "text": [
      "x-train:(35000, 200), x-val:(10000, 200), x-test:(5000, 200)\n",
      "y-train:(35000, 1), y-val:(10000, 1), y-test:(5000, 1)\n"
     ]
    }
   ],
   "source": [
    "# splitting data between train, validation and test:\n",
    "N_test = int(0.1*N_sentences)\n",
    "N_val = int(0.2*N_sentences)\n",
    "N_train = N_sentences - (N_val + N_test)\n",
    "\n",
    "x_train = x[:N_train]\n",
    "x_val = x[N_train:N_train+N_val]\n",
    "x_test = x[N_train+N_val:]\n",
    "\n",
    "print(f\"x-train:{x_train.shape}, x-val:{x_val.shape}, x-test:{x_test.shape}\")\n",
    "\n",
    "y_train = y[:N_train]\n",
    "y_val = y[N_train:N_train+N_val]\n",
    "y_test = y[N_train+N_val:]\n",
    "\n",
    "print(f\"y-train:{y_train.shape}, y-val:{y_val.shape}, y-test:{y_test.shape}\")"
   ]
  },
  {
   "cell_type": "code",
   "execution_count": 7,
   "id": "55ac43d1-c2c1-421e-8370-c76b1fa75ae4",
   "metadata": {},
   "outputs": [],
   "source": [
    "# deleting unnecessary tensors:\n",
    "del x, y, labels\n",
    "del vectorize"
   ]
  },
  {
   "cell_type": "markdown",
   "id": "1297d543-bb47-455f-9cc3-0e129221f760",
   "metadata": {},
   "source": [
    "### __2. Neural network modeling:__"
   ]
  },
  {
   "cell_type": "code",
   "execution_count": 8,
   "id": "031dc2e5-f90e-45ea-85e7-c2f80af00c8e",
   "metadata": {},
   "outputs": [
    {
     "data": {
      "text/html": [
       "<pre style=\"white-space:pre;overflow-x:auto;line-height:normal;font-family:Menlo,'DejaVu Sans Mono',consolas,'Courier New',monospace\"><span style=\"font-weight: bold\">Model: \"functional\"</span>\n",
       "</pre>\n"
      ],
      "text/plain": [
       "\u001b[1mModel: \"functional\"\u001b[0m\n"
      ]
     },
     "metadata": {},
     "output_type": "display_data"
    },
    {
     "data": {
      "text/html": [
       "<pre style=\"white-space:pre;overflow-x:auto;line-height:normal;font-family:Menlo,'DejaVu Sans Mono',consolas,'Courier New',monospace\">┏━━━━━━━━━━━━━━━━━━━━━━━━━━━━━━━━━┳━━━━━━━━━━━━━━━━━━━━━━━━┳━━━━━━━━━━━━━━━┓\n",
       "┃<span style=\"font-weight: bold\"> Layer (type)                    </span>┃<span style=\"font-weight: bold\"> Output Shape           </span>┃<span style=\"font-weight: bold\">       Param # </span>┃\n",
       "┡━━━━━━━━━━━━━━━━━━━━━━━━━━━━━━━━━╇━━━━━━━━━━━━━━━━━━━━━━━━╇━━━━━━━━━━━━━━━┩\n",
       "│ input_layer (<span style=\"color: #0087ff; text-decoration-color: #0087ff\">InputLayer</span>)        │ (<span style=\"color: #00d7ff; text-decoration-color: #00d7ff\">None</span>, <span style=\"color: #00af00; text-decoration-color: #00af00\">200</span>)            │             <span style=\"color: #00af00; text-decoration-color: #00af00\">0</span> │\n",
       "├─────────────────────────────────┼────────────────────────┼───────────────┤\n",
       "│ embedding (<span style=\"color: #0087ff; text-decoration-color: #0087ff\">Embedding</span>)           │ (<span style=\"color: #00d7ff; text-decoration-color: #00d7ff\">None</span>, <span style=\"color: #00af00; text-decoration-color: #00af00\">200</span>, <span style=\"color: #00af00; text-decoration-color: #00af00\">10</span>)        │       <span style=\"color: #00af00; text-decoration-color: #00af00\">100,000</span> │\n",
       "├─────────────────────────────────┼────────────────────────┼───────────────┤\n",
       "│ flatten (<span style=\"color: #0087ff; text-decoration-color: #0087ff\">Flatten</span>)               │ (<span style=\"color: #00d7ff; text-decoration-color: #00d7ff\">None</span>, <span style=\"color: #00af00; text-decoration-color: #00af00\">2000</span>)           │             <span style=\"color: #00af00; text-decoration-color: #00af00\">0</span> │\n",
       "├─────────────────────────────────┼────────────────────────┼───────────────┤\n",
       "│ dense (<span style=\"color: #0087ff; text-decoration-color: #0087ff\">Dense</span>)                   │ (<span style=\"color: #00d7ff; text-decoration-color: #00d7ff\">None</span>, <span style=\"color: #00af00; text-decoration-color: #00af00\">400</span>)            │       <span style=\"color: #00af00; text-decoration-color: #00af00\">800,400</span> │\n",
       "├─────────────────────────────────┼────────────────────────┼───────────────┤\n",
       "│ dense_1 (<span style=\"color: #0087ff; text-decoration-color: #0087ff\">Dense</span>)                 │ (<span style=\"color: #00d7ff; text-decoration-color: #00d7ff\">None</span>, <span style=\"color: #00af00; text-decoration-color: #00af00\">40</span>)             │        <span style=\"color: #00af00; text-decoration-color: #00af00\">16,040</span> │\n",
       "├─────────────────────────────────┼────────────────────────┼───────────────┤\n",
       "│ dense_2 (<span style=\"color: #0087ff; text-decoration-color: #0087ff\">Dense</span>)                 │ (<span style=\"color: #00d7ff; text-decoration-color: #00d7ff\">None</span>, <span style=\"color: #00af00; text-decoration-color: #00af00\">1</span>)              │            <span style=\"color: #00af00; text-decoration-color: #00af00\">41</span> │\n",
       "└─────────────────────────────────┴────────────────────────┴───────────────┘\n",
       "</pre>\n"
      ],
      "text/plain": [
       "┏━━━━━━━━━━━━━━━━━━━━━━━━━━━━━━━━━┳━━━━━━━━━━━━━━━━━━━━━━━━┳━━━━━━━━━━━━━━━┓\n",
       "┃\u001b[1m \u001b[0m\u001b[1mLayer (type)                   \u001b[0m\u001b[1m \u001b[0m┃\u001b[1m \u001b[0m\u001b[1mOutput Shape          \u001b[0m\u001b[1m \u001b[0m┃\u001b[1m \u001b[0m\u001b[1m      Param #\u001b[0m\u001b[1m \u001b[0m┃\n",
       "┡━━━━━━━━━━━━━━━━━━━━━━━━━━━━━━━━━╇━━━━━━━━━━━━━━━━━━━━━━━━╇━━━━━━━━━━━━━━━┩\n",
       "│ input_layer (\u001b[38;5;33mInputLayer\u001b[0m)        │ (\u001b[38;5;45mNone\u001b[0m, \u001b[38;5;34m200\u001b[0m)            │             \u001b[38;5;34m0\u001b[0m │\n",
       "├─────────────────────────────────┼────────────────────────┼───────────────┤\n",
       "│ embedding (\u001b[38;5;33mEmbedding\u001b[0m)           │ (\u001b[38;5;45mNone\u001b[0m, \u001b[38;5;34m200\u001b[0m, \u001b[38;5;34m10\u001b[0m)        │       \u001b[38;5;34m100,000\u001b[0m │\n",
       "├─────────────────────────────────┼────────────────────────┼───────────────┤\n",
       "│ flatten (\u001b[38;5;33mFlatten\u001b[0m)               │ (\u001b[38;5;45mNone\u001b[0m, \u001b[38;5;34m2000\u001b[0m)           │             \u001b[38;5;34m0\u001b[0m │\n",
       "├─────────────────────────────────┼────────────────────────┼───────────────┤\n",
       "│ dense (\u001b[38;5;33mDense\u001b[0m)                   │ (\u001b[38;5;45mNone\u001b[0m, \u001b[38;5;34m400\u001b[0m)            │       \u001b[38;5;34m800,400\u001b[0m │\n",
       "├─────────────────────────────────┼────────────────────────┼───────────────┤\n",
       "│ dense_1 (\u001b[38;5;33mDense\u001b[0m)                 │ (\u001b[38;5;45mNone\u001b[0m, \u001b[38;5;34m40\u001b[0m)             │        \u001b[38;5;34m16,040\u001b[0m │\n",
       "├─────────────────────────────────┼────────────────────────┼───────────────┤\n",
       "│ dense_2 (\u001b[38;5;33mDense\u001b[0m)                 │ (\u001b[38;5;45mNone\u001b[0m, \u001b[38;5;34m1\u001b[0m)              │            \u001b[38;5;34m41\u001b[0m │\n",
       "└─────────────────────────────────┴────────────────────────┴───────────────┘\n"
      ]
     },
     "metadata": {},
     "output_type": "display_data"
    },
    {
     "data": {
      "text/html": [
       "<pre style=\"white-space:pre;overflow-x:auto;line-height:normal;font-family:Menlo,'DejaVu Sans Mono',consolas,'Courier New',monospace\"><span style=\"font-weight: bold\"> Total params: </span><span style=\"color: #00af00; text-decoration-color: #00af00\">916,481</span> (3.50 MB)\n",
       "</pre>\n"
      ],
      "text/plain": [
       "\u001b[1m Total params: \u001b[0m\u001b[38;5;34m916,481\u001b[0m (3.50 MB)\n"
      ]
     },
     "metadata": {},
     "output_type": "display_data"
    },
    {
     "data": {
      "text/html": [
       "<pre style=\"white-space:pre;overflow-x:auto;line-height:normal;font-family:Menlo,'DejaVu Sans Mono',consolas,'Courier New',monospace\"><span style=\"font-weight: bold\"> Trainable params: </span><span style=\"color: #00af00; text-decoration-color: #00af00\">916,481</span> (3.50 MB)\n",
       "</pre>\n"
      ],
      "text/plain": [
       "\u001b[1m Trainable params: \u001b[0m\u001b[38;5;34m916,481\u001b[0m (3.50 MB)\n"
      ]
     },
     "metadata": {},
     "output_type": "display_data"
    },
    {
     "data": {
      "text/html": [
       "<pre style=\"white-space:pre;overflow-x:auto;line-height:normal;font-family:Menlo,'DejaVu Sans Mono',consolas,'Courier New',monospace\"><span style=\"font-weight: bold\"> Non-trainable params: </span><span style=\"color: #00af00; text-decoration-color: #00af00\">0</span> (0.00 B)\n",
       "</pre>\n"
      ],
      "text/plain": [
       "\u001b[1m Non-trainable params: \u001b[0m\u001b[38;5;34m0\u001b[0m (0.00 B)\n"
      ]
     },
     "metadata": {},
     "output_type": "display_data"
    }
   ],
   "source": [
    "embed_dim = 10\n",
    "\n",
    "In = keras.Input((x_train.shape[1], ))\n",
    "\n",
    "x = layers.Embedding(vocab_size, embed_dim)(In)\n",
    "\n",
    "x = layers.Flatten()(x)\n",
    "\n",
    "x = layers.Dense(400, activation=\"relu\")(x)\n",
    "\n",
    "x = layers.Dense(40, activation=\"relu\")(x)\n",
    "\n",
    "Out = layers.Dense(1, activation=\"sigmoid\")(x)\n",
    "\n",
    "model = keras.Model(inputs=In, outputs=Out)\n",
    "\n",
    "model.summary()"
   ]
  },
  {
   "cell_type": "markdown",
   "id": "626664fc-593b-4539-ac60-4903c5734b58",
   "metadata": {},
   "source": [
    "### __3. Model compilation:__"
   ]
  },
  {
   "cell_type": "code",
   "execution_count": 9,
   "id": "7324e21e-c165-4fef-a672-98ae835c7461",
   "metadata": {},
   "outputs": [],
   "source": [
    "model.compile(optimizer=\"Adamax\", loss=\"binary_crossentropy\", metrics=[\"acc\"])"
   ]
  },
  {
   "cell_type": "markdown",
   "id": "beda4521-0d6c-42fe-995f-dd52c4ae9bc1",
   "metadata": {
    "jp-MarkdownHeadingCollapsed": true
   },
   "source": [
    "### __4. Train and validation__   "
   ]
  },
  {
   "cell_type": "raw",
   "id": "524166d4-af16-4e67-be28-17472ca460e0",
   "metadata": {
    "scrolled": true
   },
   "source": [
    "report = model.fit(x=x_train, y=y_train, validation_data=[x_val, y_val], batch_size=40, epochs=10)"
   ]
  },
  {
   "cell_type": "raw",
   "id": "22ce8ca5-5add-438a-9d8e-dd8632fa62dd",
   "metadata": {},
   "source": [
    "loss = report.history['loss']\n",
    "val_loss = report.history['val_loss']\n",
    "\n",
    "acc = report.history['acc']\n",
    "val_acc = report.history['val_acc']\n",
    "\n",
    "epochs = np.linspace(1, len(loss), len(loss))\n",
    "\n",
    "fig, ax = plt.subplots(1, 2, figsize=(15,4))\n",
    "\n",
    "ax[0].plot(epochs, loss, label=\"loss\")\n",
    "ax[0].plot(epochs, val_loss, label=\"val-loss\")\n",
    "\n",
    "ax[1].plot(epochs, acc, label=\"acc\")\n",
    "ax[1].plot(epochs, val_acc, label=\"val-acc\")\n",
    "\n",
    "for i in range(2):\n",
    "    ax[i].set_xlabel(\"epochs\")\n",
    "    ax[i].legend()\n",
    "    ax[i].grid()\n",
    "\n",
    "plt.show()"
   ]
  },
  {
   "cell_type": "markdown",
   "id": "1e8686e6-36cf-414e-8fed-238a7c2024ad",
   "metadata": {},
   "source": [
    "### __5. Final training__    "
   ]
  },
  {
   "cell_type": "code",
   "execution_count": 10,
   "id": "02c5c08a-7b53-4ca3-a26b-493c49678213",
   "metadata": {},
   "outputs": [
    {
     "name": "stdout",
     "output_type": "stream",
     "text": [
      "Epoch 1/10\n",
      "\u001b[1m875/875\u001b[0m \u001b[32m━━━━━━━━━━━━━━━━━━━━\u001b[0m\u001b[37m\u001b[0m \u001b[1m5s\u001b[0m 5ms/step - acc: 0.5863 - loss: 0.6439\n",
      "Epoch 2/10\n",
      "\u001b[1m875/875\u001b[0m \u001b[32m━━━━━━━━━━━━━━━━━━━━\u001b[0m\u001b[37m\u001b[0m \u001b[1m4s\u001b[0m 5ms/step - acc: 0.8689 - loss: 0.3098\n",
      "Epoch 3/10\n",
      "\u001b[1m875/875\u001b[0m \u001b[32m━━━━━━━━━━━━━━━━━━━━\u001b[0m\u001b[37m\u001b[0m \u001b[1m4s\u001b[0m 5ms/step - acc: 0.9171 - loss: 0.2157\n",
      "Epoch 4/10\n",
      "\u001b[1m875/875\u001b[0m \u001b[32m━━━━━━━━━━━━━━━━━━━━\u001b[0m\u001b[37m\u001b[0m \u001b[1m4s\u001b[0m 5ms/step - acc: 0.9493 - loss: 0.1458\n",
      "Epoch 5/10\n",
      "\u001b[1m875/875\u001b[0m \u001b[32m━━━━━━━━━━━━━━━━━━━━\u001b[0m\u001b[37m\u001b[0m \u001b[1m4s\u001b[0m 5ms/step - acc: 0.9770 - loss: 0.0824\n",
      "Epoch 6/10\n",
      "\u001b[1m875/875\u001b[0m \u001b[32m━━━━━━━━━━━━━━━━━━━━\u001b[0m\u001b[37m\u001b[0m \u001b[1m4s\u001b[0m 5ms/step - acc: 0.9885 - loss: 0.0446\n",
      "Epoch 7/10\n",
      "\u001b[1m875/875\u001b[0m \u001b[32m━━━━━━━━━━━━━━━━━━━━\u001b[0m\u001b[37m\u001b[0m \u001b[1m4s\u001b[0m 5ms/step - acc: 0.9939 - loss: 0.0243\n",
      "Epoch 8/10\n",
      "\u001b[1m875/875\u001b[0m \u001b[32m━━━━━━━━━━━━━━━━━━━━\u001b[0m\u001b[37m\u001b[0m \u001b[1m4s\u001b[0m 5ms/step - acc: 0.9983 - loss: 0.0099\n",
      "Epoch 9/10\n",
      "\u001b[1m875/875\u001b[0m \u001b[32m━━━━━━━━━━━━━━━━━━━━\u001b[0m\u001b[37m\u001b[0m \u001b[1m4s\u001b[0m 5ms/step - acc: 0.9992 - loss: 0.0046\n",
      "Epoch 10/10\n",
      "\u001b[1m875/875\u001b[0m \u001b[32m━━━━━━━━━━━━━━━━━━━━\u001b[0m\u001b[37m\u001b[0m \u001b[1m4s\u001b[0m 5ms/step - acc: 0.9997 - loss: 0.0019\n"
     ]
    }
   ],
   "source": [
    "report = model.fit(x=x_train, y=y_train, batch_size=40, epochs=10)"
   ]
  },
  {
   "cell_type": "code",
   "execution_count": 11,
   "id": "cfbd5572-a17b-4848-9f82-1acaaf5b5dfc",
   "metadata": {},
   "outputs": [
    {
     "data": {
      "image/png": "[encoded data removed]",
      "text/plain": [
       "<Figure size 1500x400 with 2 Axes>"
      ]
     },
     "metadata": {},
     "output_type": "display_data"
    }
   ],
   "source": [
    "loss = report.history['loss']\n",
    "acc = report.history['acc']\n",
    "\n",
    "epochs = np.linspace(1, len(loss), len(loss))\n",
    "\n",
    "fig, ax = plt.subplots(1, 2, figsize=(15,4))\n",
    "\n",
    "ax[0].plot(epochs, loss, label=\"loss\")\n",
    "ax[1].plot(epochs, acc, label=\"acc\")\n",
    "\n",
    "for i in range(2):\n",
    "    ax[i].set_xlabel(\"epochs\")\n",
    "    ax[i].legend()\n",
    "    ax[i].grid()\n",
    "\n",
    "plt.show()"
   ]
  },
  {
   "cell_type": "markdown",
   "id": "c0e875dc-7d57-42fb-a03b-19948e2de183",
   "metadata": {},
   "source": [
    "### __6. Test evaluation__:"
   ]
  },
  {
   "cell_type": "code",
   "execution_count": 12,
   "id": "f9d7310a-76e9-468f-b841-faef798052c9",
   "metadata": {},
   "outputs": [
    {
     "name": "stdout",
     "output_type": "stream",
     "text": [
      "\u001b[1m157/157\u001b[0m \u001b[32m━━━━━━━━━━━━━━━━━━━━\u001b[0m\u001b[37m\u001b[0m \u001b[1m0s\u001b[0m 867us/step - acc: 0.8348 - loss: 1.0488\n"
     ]
    },
    {
     "data": {
      "text/plain": [
       "[1.0661499500274658, 0.8356000185012817]"
      ]
     },
     "execution_count": 12,
     "metadata": {},
     "output_type": "execute_result"
    }
   ],
   "source": [
    "model.evaluate(x_test, y_test)"
   ]
  },
  {
   "cell_type": "code",
   "execution_count": 13,
   "id": "f056e360-c29d-4458-91ee-0e4b8f9b1d3d",
   "metadata": {},
   "outputs": [
    {
     "name": "stdout",
     "output_type": "stream",
     "text": [
      "\u001b[1m157/157\u001b[0m \u001b[32m━━━━━━━━━━━━━━━━━━━━\u001b[0m\u001b[37m\u001b[0m \u001b[1m0s\u001b[0m 1ms/step\n"
     ]
    }
   ],
   "source": [
    "y_pred = model.predict(x_test)"
   ]
  },
  {
   "cell_type": "code",
   "execution_count": 14,
   "id": "173ffc9d-5627-4d8d-8567-f306cbb4c0c8",
   "metadata": {},
   "outputs": [
    {
     "name": "stdout",
     "output_type": "stream",
     "text": [
      "label: negative\n",
      "prediction: negative \n",
      "\n",
      "when this cartoon first aired i was under the impression that it would be at least half way descent boy was i wrong i must admit watching this cartoon is almost as painful as watching batman and robin with george clooney all those years ago i watched a few episodes and two of them had batman literally get his ass kicked left and right by the penguin who fought like jet li and beat the crap out of batman and i watched another episode where batman got his butt kicked again by the joker who apparently was using jackie chan moves while flipping in the air like a ninja since when were the joker or the penguin ever a match for batman and worse yet when were joker and penguin kung fu counterparts of jackie chan and jet li its truly embarrassing depressing and sad the way the image of batman is portrayed in this show the animation is awful and the dialog is terrible being a batman fan since my [UNK] i can honestly and strongly advise you to stay away and avoid this show at all cost because it doesnt project the true image of batman this cartoon "
     ]
    }
   ],
   "source": [
    "# list of indexes to sentence: \n",
    "idx = 1\n",
    "\n",
    "label = \"positive\" if y_test[idx] == 1 else \"negative\"\n",
    "pred_label = \"positive\" if y_pred[idx] >= 0.5 else \"negative\"\n",
    "\n",
    "print(\"label:\", label)\n",
    "print(\"prediction:\", pred_label, \"\\n\")\n",
    "\n",
    "for i in x_test[idx]:\n",
    "    print(vocab[i], end=\" \")\n",
    "    "
   ]
  },
  {
   "cell_type": "markdown",
   "id": "dd1006c9-50c7-4341-a265-a9221ae1ebca",
   "metadata": {},
   "source": [
    "### __7. Saving the model__:\n",
    "<font size=3>\n",
    "    \n",
    "For model __loading__, see [2.3-handson-loading_model](../2-over_vs_underfitting/2.3-handson-loading_model.ipynb)."
   ]
  }
 ],
 "metadata": {
  "kernelspec": {
   "display_name": "Python 3 (ipykernel)",
   "language": "python",
   "name": "python3"
  },
  "language_info": {
   "codemirror_mode": {
    "name": "ipython",
    "version": 3
   },
   "file_extension": ".py",
   "mimetype": "text/x-python",
   "name": "python",
   "nbconvert_exporter": "python",
   "pygments_lexer": "ipython3",
   "version": "3.12.2"
  }
 },
 "nbformat": 4,
 "nbformat_minor": 5
}
