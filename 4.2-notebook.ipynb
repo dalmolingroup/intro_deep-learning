{
 "cells": [
  {
   "cell_type": "code",
   "execution_count": null,
   "id": "277c3dd3-9597-4731-9051-340815c9517b",
   "metadata": {},
   "outputs": [],
   "source": [
    "import numpy as np\n",
    "import pandas as pd\n",
    "import matplotlib.pyplot as plt\n",
    "\n",
    "from tensorflow import keras\n",
    "from tensorflow.keras import layers"
   ]
  },
  {
   "cell_type": "markdown",
   "id": "56e02c34-a721-4728-a8f5-22efd2f5209e",
   "metadata": {},
   "source": [
    "### __1. Import and data pre-processing:__"
   ]
  },
  {
   "cell_type": "code",
   "execution_count": null,
   "id": "dc798d16-acd6-4eb6-a9f9-2bfd01d7b180",
   "metadata": {},
   "outputs": [],
   "source": [
    "# import counts dataframe:\n",
    "\n",
    "df_counts = pd.read_csv(\"dataset/mdd_counts.csv\") \n",
    "df_counts = df_counts.set_index(\"Unnamed: 0\")\n",
    "\n",
    "print(df_counts.shape)\n",
    "df_counts.head()"
   ]
  },
  {
   "cell_type": "code",
   "execution_count": null,
   "id": "b797da98-2b49-4da3-bdde-dfe7e6a5af45",
   "metadata": {},
   "outputs": [],
   "source": [
    "# import metadata:\n",
    "\n",
    "df_meta = pd.read_csv(\"dataset/mdd_meta.csv\")\n",
    "df_meta = df_meta.set_index(\"!Sample_title\")\n",
    "df_meta.head()"
   ]
  },
  {
   "cell_type": "code",
   "execution_count": null,
   "id": "d11561eb-56b5-4129-9c2b-d8f8f3cd5a31",
   "metadata": {},
   "outputs": [],
   "source": [
    "# select (x, y) data:\n",
    "# x -> counts table\n",
    "# y -> (sample, phenotype, denger)\n",
    "\n",
    "counts = df_counts.to_numpy()\n",
    "print(counts.min(), counts.mean(), counts.max())\n",
    "\n",
    "plt.figure(figsize=(15,3))\n",
    "plt.imshow(counts)\n",
    "plt.colorbar()\n",
    "plt.xticks([])\n",
    "plt.yticks([])\n",
    "plt.show()"
   ]
  },
  {
   "cell_type": "code",
   "execution_count": null,
   "id": "1ef7f8ec-b57f-4050-b670-c0fb758c4653",
   "metadata": {},
   "outputs": [],
   "source": [
    "# normalization:\n",
    "x = np.log(counts+1)\n",
    "x /= x.max()\n",
    "\n",
    "print(x.min(), x.mean(), x.max())\n",
    "\n",
    "plt.figure(figsize=(15,3))\n",
    "plt.imshow(x)\n",
    "plt.colorbar()\n",
    "plt.xticks([])\n",
    "plt.yticks([])\n",
    "plt.show()"
   ]
  },
  {
   "cell_type": "code",
   "execution_count": null,
   "id": "e1249846-21b4-4fd3-9c84-bb6ac848763e",
   "metadata": {},
   "outputs": [],
   "source": [
    "# meta -> (subject_id, sample, phenotype, gender)\n",
    "\n",
    "meta = [x.split(\".\") for x in df_counts.index]\n",
    "\n",
    "N = len(meta)\n",
    "\n",
    "for i in range(N):\n",
    "    n = meta[i][0]\n",
    "    \n",
    "    meta[i] += df_meta.loc[['phenotype', 'gender'], n].tolist()\n",
    "\n",
    "meta = np.array(meta)\n",
    "print(meta.shape)\n",
    "meta"
   ]
  },
  {
   "cell_type": "code",
   "execution_count": null,
   "id": "09ada874-95bd-48fc-a014-6f724ce5ceb6",
   "metadata": {},
   "outputs": [],
   "source": [
    "# one-hot encoding:\n",
    "\n",
    "def one_hot(meta):\n",
    "\n",
    "    labels = np.array(list(set(meta)))\n",
    "    hot = np.zeros((len(meta), len(labels)))\n",
    "\n",
    "    for i, x in enumerate(meta):\n",
    "        j = np.where(x == labels)[0]\n",
    "        hot[i][j] = 1.0\n",
    "\n",
    "    return hot\n",
    "\n",
    "meta1 = one_hot(meta.T[1])\n",
    "meta2 = one_hot(meta.T[2])\n",
    "meta3 = one_hot(meta.T[3])\n",
    "\n",
    "y = np.concatenate([meta1, meta2, meta3], axis=1)\n",
    "\n",
    "print(\"y:\", y.shape)\n",
    "\n",
    "y[:4]"
   ]
  },
  {
   "cell_type": "code",
   "execution_count": null,
   "id": "39b16319-715e-47e7-97c7-25472bba722d",
   "metadata": {},
   "outputs": [],
   "source": [
    "# shuffling:\n",
    "N_samples = x.shape[0]\n",
    "i = np.random.permutation(N_samples)\n",
    "x, y = x[i], y[i]\n",
    "meta = meta[i]\n",
    "\n",
    "x.shape, y.shape"
   ]
  },
  {
   "cell_type": "code",
   "execution_count": null,
   "id": "2fd2a0d9-f44f-47a0-9259-5ae4f001426d",
   "metadata": {},
   "outputs": [],
   "source": [
    "# splitting (x, y) into train, validation, and test:\n",
    "\n",
    "N_val = int(0.2*N_samples)\n",
    "N_test = int(0.1*N_samples)\n",
    "\n",
    "N_train = N_samples - (N_val + N_test)\n",
    "\n",
    "x_train = x[:N_train]\n",
    "x_val = x[N_train:N_train+N_val]\n",
    "x_test = x[N_train+N_val:]\n",
    "\n",
    "print(f\"x-train:{x_train.shape}, x-val:{x_val.shape}, x-test:{x_test.shape}\")\n",
    "\n",
    "y_train = y[:N_train]\n",
    "y_val = y[N_train:N_train+N_val]\n",
    "y_test = y[N_train+N_val:]\n",
    "\n",
    "print(f\"y-train:{y_train.shape}, y-val:{y_val.shape}, y-test:{y_test.shape}\")\n"
   ]
  },
  {
   "cell_type": "code",
   "execution_count": null,
   "id": "32cdfa65-2219-4d6f-9538-1f9d860319ff",
   "metadata": {},
   "outputs": [],
   "source": [
    "# deleting unnecessary arrays:\n",
    "\n",
    "del df_counts, df_meta, counts\n",
    "del meta1, meta2, meta3, x, y"
   ]
  },
  {
   "cell_type": "markdown",
   "id": "1297d543-bb47-455f-9cc3-0e129221f760",
   "metadata": {},
   "source": [
    "### __2. Neural network modeling:__"
   ]
  },
  {
   "cell_type": "code",
   "execution_count": null,
   "id": "b666ab3b-0fc6-4ab1-8733-5ebac7dc2d37",
   "metadata": {},
   "outputs": [],
   "source": [
    "In = keras.Input((x_train.shape[1], ))\n",
    "\n",
    "x = layers.Dense(400, activation='relu')(In)\n",
    "\n",
    "x = layers.Dense(200, activation='relu')(x)\n",
    "x = layers.Dense(20, activation='relu')(x)\n",
    "x = layers.Dense(200, activation='relu')(x)\n",
    "x = layers.Dense(400, activation='relu')(x)\n",
    "\n",
    "Out = layers.Dense(x_train.shape[1], activation='sigmoid')(x)\n",
    "\n",
    "model = keras.Model(inputs=In, outputs=Out)\n",
    "model.summary()"
   ]
  },
  {
   "cell_type": "markdown",
   "id": "626664fc-593b-4539-ac60-4903c5734b58",
   "metadata": {},
   "source": [
    "### __3. Model compilation:__"
   ]
  },
  {
   "cell_type": "code",
   "execution_count": null,
   "id": "a5a84098-027b-43c5-ab82-b8120cf530ac",
   "metadata": {},
   "outputs": [],
   "source": []
  },
  {
   "cell_type": "markdown",
   "id": "beda4521-0d6c-42fe-995f-dd52c4ae9bc1",
   "metadata": {},
   "source": [
    "### __4. Train and validation__   "
   ]
  },
  {
   "cell_type": "code",
   "execution_count": null,
   "id": "20259fba-c94f-4bde-9159-334545565492",
   "metadata": {
    "scrolled": true
   },
   "outputs": [],
   "source": []
  },
  {
   "cell_type": "code",
   "execution_count": null,
   "id": "fb126852-ab5e-496c-93c5-b27bcfca3d75",
   "metadata": {},
   "outputs": [],
   "source": []
  },
  {
   "cell_type": "markdown",
   "id": "1e8686e6-36cf-414e-8fed-238a7c2024ad",
   "metadata": {},
   "source": [
    "### __5. Final training__    "
   ]
  },
  {
   "cell_type": "code",
   "execution_count": null,
   "id": "366787b1-9ded-4ddc-b321-859875db86d4",
   "metadata": {
    "scrolled": true
   },
   "outputs": [],
   "source": []
  },
  {
   "cell_type": "code",
   "execution_count": null,
   "id": "6fc59ca5-11e8-42b9-accb-a55520bc85b1",
   "metadata": {},
   "outputs": [],
   "source": []
  },
  {
   "cell_type": "markdown",
   "id": "c0e875dc-7d57-42fb-a03b-19948e2de183",
   "metadata": {},
   "source": [
    "### __6. Test evaluation__:"
   ]
  },
  {
   "cell_type": "code",
   "execution_count": null,
   "id": "7e91bd47-73db-466b-bde7-84a08dafc52a",
   "metadata": {},
   "outputs": [],
   "source": []
  },
  {
   "cell_type": "code",
   "execution_count": null,
   "id": "2d4d445c-b51c-4b9e-a8f9-6fd4d99618e9",
   "metadata": {},
   "outputs": [],
   "source": []
  },
  {
   "cell_type": "markdown",
   "id": "98ef49bf-819e-46f8-86be-e89f057a89c3",
   "metadata": {},
   "source": [
    "#### __6.1 Anomaly detection:__"
   ]
  },
  {
   "cell_type": "code",
   "execution_count": null,
   "id": "5477118e-b300-4381-aa17-4fd3575ac28e",
   "metadata": {},
   "outputs": [],
   "source": []
  },
  {
   "cell_type": "code",
   "execution_count": null,
   "id": "06eff2de-ca22-42e1-8516-50cb158f6bd0",
   "metadata": {},
   "outputs": [],
   "source": []
  },
  {
   "cell_type": "markdown",
   "id": "dd1006c9-50c7-4341-a265-a9221ae1ebca",
   "metadata": {},
   "source": [
    "### __7. Saving the model__:\n",
    "<font size=3>\n",
    "    \n",
    "For model __loading__, see [2.2-notebook](2.2-notebook.ipynb)."
   ]
  }
 ],
 "metadata": {
  "kernelspec": {
   "display_name": "Python 3 (ipykernel)",
   "language": "python",
   "name": "python3"
  },
  "language_info": {
   "codemirror_mode": {
    "name": "ipython",
    "version": 3
   },
   "file_extension": ".py",
   "mimetype": "text/x-python",
   "name": "python",
   "nbconvert_exporter": "python",
   "pygments_lexer": "ipython3",
   "version": "3.10.12"
  }
 },
 "nbformat": 4,
 "nbformat_minor": 5
}
