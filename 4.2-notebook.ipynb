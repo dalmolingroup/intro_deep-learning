{
 "cells": [
  {
   "cell_type": "code",
   "execution_count": null,
   "id": "277c3dd3-9597-4731-9051-340815c9517b",
   "metadata": {},
   "outputs": [],
   "source": []
  },
  {
   "cell_type": "markdown",
   "id": "56e02c34-a721-4728-a8f5-22efd2f5209e",
   "metadata": {},
   "source": [
    "### __1. Import and data pre-processing:__"
   ]
  },
  {
   "cell_type": "code",
   "execution_count": null,
   "id": "dc798d16-acd6-4eb6-a9f9-2bfd01d7b180",
   "metadata": {},
   "outputs": [],
   "source": [
    "# import counts dataframe:"
   ]
  },
  {
   "cell_type": "code",
   "execution_count": null,
   "id": "b797da98-2b49-4da3-bdde-dfe7e6a5af45",
   "metadata": {},
   "outputs": [],
   "source": [
    "# import metadata:\n"
   ]
  },
  {
   "cell_type": "code",
   "execution_count": null,
   "id": "d11561eb-56b5-4129-9c2b-d8f8f3cd5a31",
   "metadata": {},
   "outputs": [],
   "source": [
    "# select (x, y) data:\n",
    "# x -> counts table\n",
    "# y -> (sample, phenotype, denger)\n"
   ]
  },
  {
   "cell_type": "code",
   "execution_count": null,
   "id": "1ef7f8ec-b57f-4050-b670-c0fb758c4653",
   "metadata": {},
   "outputs": [],
   "source": [
    "# normalization:\n"
   ]
  },
  {
   "cell_type": "code",
   "execution_count": null,
   "id": "e1249846-21b4-4fd3-9c84-bb6ac848763e",
   "metadata": {},
   "outputs": [],
   "source": [
    "# meta -> (subject_id, sample, phenotype, gender)\n"
   ]
  },
  {
   "cell_type": "code",
   "execution_count": null,
   "id": "09ada874-95bd-48fc-a014-6f724ce5ceb6",
   "metadata": {},
   "outputs": [],
   "source": [
    "# one-hot encoding:\n"
   ]
  },
  {
   "cell_type": "code",
   "execution_count": null,
   "id": "39b16319-715e-47e7-97c7-25472bba722d",
   "metadata": {},
   "outputs": [],
   "source": [
    "# shuffling:\n"
   ]
  },
  {
   "cell_type": "code",
   "execution_count": null,
   "id": "2fd2a0d9-f44f-47a0-9259-5ae4f001426d",
   "metadata": {},
   "outputs": [],
   "source": [
    "# splitting (x, y) into train, validation, and test:\n"
   ]
  },
  {
   "cell_type": "code",
   "execution_count": null,
   "id": "32cdfa65-2219-4d6f-9538-1f9d860319ff",
   "metadata": {},
   "outputs": [],
   "source": [
    "# deleting unnecessary arrays:\n"
   ]
  },
  {
   "cell_type": "markdown",
   "id": "1297d543-bb47-455f-9cc3-0e129221f760",
   "metadata": {},
   "source": [
    "### __2. Neural network modeling:__"
   ]
  },
  {
   "cell_type": "code",
   "execution_count": null,
   "id": "b666ab3b-0fc6-4ab1-8733-5ebac7dc2d37",
   "metadata": {},
   "outputs": [],
   "source": []
  },
  {
   "cell_type": "markdown",
   "id": "626664fc-593b-4539-ac60-4903c5734b58",
   "metadata": {},
   "source": [
    "### __3. Model compilation:__"
   ]
  },
  {
   "cell_type": "code",
   "execution_count": null,
   "id": "a5a84098-027b-43c5-ab82-b8120cf530ac",
   "metadata": {},
   "outputs": [],
   "source": []
  },
  {
   "cell_type": "markdown",
   "id": "beda4521-0d6c-42fe-995f-dd52c4ae9bc1",
   "metadata": {},
   "source": [
    "### __4. Train and validation__   "
   ]
  },
  {
   "cell_type": "code",
   "execution_count": null,
   "id": "741d7308-15d3-435a-8f5e-7aa5a1498ce7",
   "metadata": {
    "scrolled": true
   },
   "outputs": [],
   "source": []
  },
  {
   "cell_type": "code",
   "execution_count": null,
   "id": "2cdae5b2-32b1-4867-ae62-9e305215616d",
   "metadata": {},
   "outputs": [],
   "source": []
  },
  {
   "cell_type": "markdown",
   "id": "1e8686e6-36cf-414e-8fed-238a7c2024ad",
   "metadata": {},
   "source": [
    "### __5. Final training__    "
   ]
  },
  {
   "cell_type": "code",
   "execution_count": null,
   "id": "366787b1-9ded-4ddc-b321-859875db86d4",
   "metadata": {
    "scrolled": true
   },
   "outputs": [],
   "source": []
  },
  {
   "cell_type": "code",
   "execution_count": null,
   "id": "6fc59ca5-11e8-42b9-accb-a55520bc85b1",
   "metadata": {},
   "outputs": [],
   "source": []
  },
  {
   "cell_type": "markdown",
   "id": "c0e875dc-7d57-42fb-a03b-19948e2de183",
   "metadata": {},
   "source": [
    "### __6. Test evaluation__:"
   ]
  },
  {
   "cell_type": "code",
   "execution_count": null,
   "id": "7e91bd47-73db-466b-bde7-84a08dafc52a",
   "metadata": {},
   "outputs": [],
   "source": []
  },
  {
   "cell_type": "code",
   "execution_count": null,
   "id": "21d657fb-0486-4dba-9479-ecb7c0c9f66e",
   "metadata": {},
   "outputs": [],
   "source": []
  },
  {
   "cell_type": "markdown",
   "id": "98ef49bf-819e-46f8-86be-e89f057a89c3",
   "metadata": {},
   "source": [
    "#### __6.1 Anomaly detection:__"
   ]
  },
  {
   "cell_type": "code",
   "execution_count": null,
   "id": "5477118e-b300-4381-aa17-4fd3575ac28e",
   "metadata": {},
   "outputs": [],
   "source": []
  },
  {
   "cell_type": "code",
   "execution_count": null,
   "id": "06eff2de-ca22-42e1-8516-50cb158f6bd0",
   "metadata": {},
   "outputs": [],
   "source": []
  },
  {
   "cell_type": "markdown",
   "id": "dd1006c9-50c7-4341-a265-a9221ae1ebca",
   "metadata": {},
   "source": [
    "### __7. Saving the model__:\n",
    "<font size=3>\n",
    "    \n",
    "For model __loading__, see [2.2-notebook](2.2-notebook.ipynb)."
   ]
  }
 ],
 "metadata": {
  "kernelspec": {
   "display_name": "Python 3 (ipykernel)",
   "language": "python",
   "name": "python3"
  },
  "language_info": {
   "codemirror_mode": {
    "name": "ipython",
    "version": 3
   },
   "file_extension": ".py",
   "mimetype": "text/x-python",
   "name": "python",
   "nbconvert_exporter": "python",
   "pygments_lexer": "ipython3",
   "version": "3.10.12"
  }
 },
 "nbformat": 4,
 "nbformat_minor": 5
}
