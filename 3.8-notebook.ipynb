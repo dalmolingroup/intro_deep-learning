{
 "cells": [
  {
   "cell_type": "code",
   "execution_count": null,
   "id": "d1a4843d-9240-4dfb-9760-2190f79474a6",
   "metadata": {},
   "outputs": [],
   "source": [
    "import numpy as np\n",
    "import matplotlib.pyplot as plt\n",
    "from tensorflow import keras\n",
    "\n",
    "from toolbox import load_mnist, cnn_mnist"
   ]
  },
  {
   "cell_type": "markdown",
   "id": "56e02c34-a721-4728-a8f5-22efd2f5209e",
   "metadata": {},
   "source": [
    "### __1. Import data:__ "
   ]
  },
  {
   "cell_type": "code",
   "execution_count": null,
   "id": "055d678e-0494-4cee-9cae-42fbd0ee9cee",
   "metadata": {},
   "outputs": [],
   "source": [
    "(x_train, y_train), (x_val, y_val), (x_test, y_test) = load_mnist(net=\"cnn\")"
   ]
  },
  {
   "cell_type": "markdown",
   "id": "1297d543-bb47-455f-9cc3-0e129221f760",
   "metadata": {},
   "source": [
    "### __2. Import model:__"
   ]
  },
  {
   "cell_type": "code",
   "execution_count": null,
   "id": "eed41b4f-384a-44f1-92ff-f9d30b133f1f",
   "metadata": {},
   "outputs": [],
   "source": [
    "# load model's architecture:\n",
    "model = cnn_mnist()\n",
    "\n",
    "# load model's inner parameters:\n",
    "model.load_weights(\"weights/cnn_mnist.weights.h5\")\n",
    "\n",
    "model.summary()"
   ]
  },
  {
   "cell_type": "markdown",
   "id": "dd1006c9-50c7-4341-a265-a9221ae1ebca",
   "metadata": {},
   "source": [
    "### __3. Visualizing CNN__:\n",
    "#### __3.1 Visualizing filters:__"
   ]
  },
  {
   "cell_type": "code",
   "execution_count": null,
   "id": "01306d09-f52e-4874-aa9b-d54d94151f67",
   "metadata": {},
   "outputs": [],
   "source": [
    "for layer in model.layers:\n",
    "    print(layer.name)"
   ]
  },
  {
   "cell_type": "code",
   "execution_count": null,
   "id": "f86deb12-4840-423a-9365-9de247b04593",
   "metadata": {},
   "outputs": [],
   "source": [
    "conv = \"conv2d\"\n",
    "\n",
    "for layer in model.layers:\n",
    "    if layer.name == conv:\n",
    "        break\n",
    "\n",
    "layer.weights"
   ]
  },
  {
   "cell_type": "code",
   "execution_count": null,
   "id": "ee5d4693-1e23-4b80-b48c-a8107b355d70",
   "metadata": {},
   "outputs": [],
   "source": [
    "filters, biases = layer.weights\n",
    "\n",
    "filters = filters.numpy()\n",
    "filters.shape"
   ]
  },
  {
   "cell_type": "code",
   "execution_count": null,
   "id": "48add9eb-1224-4e8f-934a-4fa21c86d6aa",
   "metadata": {},
   "outputs": [],
   "source": [
    "Ni, Nj = 4, 8\n",
    "n = 0\n",
    "\n",
    "fig, ax = plt.subplots(Ni, Nj, figsize=(16,8))\n",
    "\n",
    "for i in range(Ni):\n",
    "    for j in range(Nj):\n",
    "        \n",
    "        filter = filters.T[n][0]\n",
    "        \n",
    "        ax[i,j].imshow(filter, cmap='gray')\n",
    "        ax[i,j].set_xticks([])\n",
    "        ax[i,j].set_yticks([])\n",
    "\n",
    "        n += 1\n",
    "\n",
    "plt.show()"
   ]
  },
  {
   "cell_type": "markdown",
   "id": "5114cb92-ad96-4529-b871-61a5f58337ba",
   "metadata": {},
   "source": [
    "#### __3.1 Visualizing channel outputs:__"
   ]
  },
  {
   "cell_type": "code",
   "execution_count": null,
   "id": "0914ef44-1920-4d0c-83e5-19098deb3049",
   "metadata": {},
   "outputs": [],
   "source": [
    "i = 4\n",
    "\n",
    "img = np.expand_dims(x_train[i], axis=0)\n",
    "\n",
    "plt.figure(figsize=(3,2))\n",
    "plt.imshow(img[0], cmap=\"gray\")\n",
    "plt.xticks([])\n",
    "plt.yticks([])\n",
    "plt.show()"
   ]
  },
  {
   "cell_type": "code",
   "execution_count": null,
   "id": "560a2686-a038-4dd9-8faa-8a7a4edc612d",
   "metadata": {},
   "outputs": [],
   "source": [
    "layer_outputs = [layer.output for layer in model.layers[:5]]\n",
    "\n",
    "layer_outputs"
   ]
  },
  {
   "cell_type": "code",
   "execution_count": null,
   "id": "03d9ca30-d1f4-4129-873b-b45351d64eb2",
   "metadata": {},
   "outputs": [],
   "source": [
    "out_convs = keras.Model(inputs=model.input, outputs=layer_outputs)\n",
    "\n",
    "out_convs.summary()"
   ]
  },
  {
   "cell_type": "code",
   "execution_count": null,
   "id": "d0b564a4-78a4-4bcf-93a4-0e63b710d002",
   "metadata": {},
   "outputs": [],
   "source": [
    "outputs = out_convs.predict(img)"
   ]
  },
  {
   "cell_type": "code",
   "execution_count": null,
   "id": "a7749893-00b1-49c4-8e20-bc9e45445838",
   "metadata": {},
   "outputs": [],
   "source": [
    "for out in outputs:\n",
    "    print(out.shape)\n",
    "    "
   ]
  },
  {
   "cell_type": "code",
   "execution_count": null,
   "id": "f7816aa5-d274-4451-9f6f-4a8a4b39055a",
   "metadata": {},
   "outputs": [],
   "source": [
    "plt.figure(figsize=(3,2))\n",
    "plt.imshow(outputs[0][0])\n",
    "plt.xticks([])\n",
    "plt.yticks([])\n",
    "plt.show()"
   ]
  },
  {
   "cell_type": "code",
   "execution_count": null,
   "id": "3c541cd6",
   "metadata": {},
   "outputs": [],
   "source": [
    "Ni, Nj = 4, 8\n",
    "l = 1\n",
    "n = 0\n",
    "\n",
    "print(\"Activation:\", outputs[l].shape)\n",
    "\n",
    "fig, ax = plt.subplots(Ni, Nj, figsize=(16,8))\n",
    "\n",
    "for i in range(Ni):\n",
    "    for j in range(Nj):\n",
    "        \n",
    "        act = outputs[l].T[n].T[0]\n",
    "        \n",
    "        ax[i,j].imshow(act)\n",
    "        ax[i,j].set_xticks([])\n",
    "        ax[i,j].set_yticks([])\n",
    "\n",
    "        n += 1\n",
    "\n",
    "plt.show()"
   ]
  },
  {
   "cell_type": "code",
   "execution_count": null,
   "id": "25d3d200",
   "metadata": {},
   "outputs": [],
   "source": [
    "Ni, Nj = 4, 8\n",
    "l = 2\n",
    "n = 0\n",
    "\n",
    "print(\"Activation:\", outputs[l].shape)\n",
    "\n",
    "fig, ax = plt.subplots(Ni, Nj, figsize=(16,8))\n",
    "\n",
    "for i in range(Ni):\n",
    "    for j in range(Nj):\n",
    "        \n",
    "        act = outputs[l].T[n].T[0]\n",
    "        \n",
    "        ax[i,j].imshow(act)\n",
    "        ax[i,j].set_xticks([])\n",
    "        ax[i,j].set_yticks([])\n",
    "\n",
    "        n += 1\n",
    "\n",
    "plt.show()"
   ]
  },
  {
   "cell_type": "code",
   "execution_count": null,
   "id": "6e5039f7",
   "metadata": {},
   "outputs": [],
   "source": [
    "Ni, Nj = 8, 8\n",
    "l = 3\n",
    "n = 0\n",
    "\n",
    "print(\"Activation:\", outputs[l].shape)\n",
    "\n",
    "fig, ax = plt.subplots(Ni, Nj, figsize=(8,8))\n",
    "\n",
    "for i in range(Ni):\n",
    "    for j in range(Nj):\n",
    "        \n",
    "        act = outputs[l].T[n].T[0]\n",
    "        \n",
    "        ax[i,j].imshow(act)\n",
    "        ax[i,j].set_xticks([])\n",
    "        ax[i,j].set_yticks([])\n",
    "\n",
    "        n += 1\n",
    "\n",
    "plt.show()"
   ]
  },
  {
   "cell_type": "code",
   "execution_count": null,
   "id": "cd26eba0",
   "metadata": {},
   "outputs": [],
   "source": [
    "Ni, Nj = 8, 8\n",
    "l = 4\n",
    "n = 0\n",
    "\n",
    "print(\"Activation:\", outputs[l].shape)\n",
    "\n",
    "fig, ax = plt.subplots(Ni, Nj, figsize=(8,8))\n",
    "\n",
    "for i in range(Ni):\n",
    "    for j in range(Nj):\n",
    "        \n",
    "        act = outputs[l].T[n].T[0]\n",
    "        \n",
    "        ax[i,j].imshow(act)\n",
    "        ax[i,j].set_xticks([])\n",
    "        ax[i,j].set_yticks([])\n",
    "\n",
    "        n += 1\n",
    "\n",
    "plt.show()"
   ]
  },
  {
   "cell_type": "markdown",
   "id": "41f9463b-4c67-4cb9-9d96-7597a8d8aeda",
   "metadata": {},
   "source": [
    "### __Reference:__\n",
    "[Deep Learning with Python](https://books.google.com.br/books/about/Deep_Learning_with_Python.html?id=Yo3CAQAACAAJ&redir_esc=y): _Chapter 5, page 160._"
   ]
  }
 ],
 "metadata": {
  "kernelspec": {
   "display_name": "Python 3 (ipykernel)",
   "language": "python",
   "name": "python3"
  },
  "language_info": {
   "codemirror_mode": {
    "name": "ipython",
    "version": 3
   },
   "file_extension": ".py",
   "mimetype": "text/x-python",
   "name": "python",
   "nbconvert_exporter": "python",
   "pygments_lexer": "ipython3",
   "version": "3.10.12"
  }
 },
 "nbformat": 4,
 "nbformat_minor": 5
}
