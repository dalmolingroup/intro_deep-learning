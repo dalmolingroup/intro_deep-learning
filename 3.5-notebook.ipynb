{
 "cells": [
  {
   "cell_type": "markdown",
   "id": "13a5a5a4-a551-478e-86a3-f69413ec5e26",
   "metadata": {},
   "source": [
    "## __Dense MNIST experiment:__\n",
    "<font size=3>\n",
    "\n",
    "Let's now make an experiment with our best dense model for MNIST handwritten digits problem:\n",
    "* Import the dataset;\n",
    "* Import the model and load its parameters;\n",
    "* Choose a number and make a prediction;\n",
    "* Rotate this number $\\pi/2$ and repeat the prediction.\n"
   ]
  },
  {
   "cell_type": "code",
   "execution_count": null,
   "id": "277c3dd3-9597-4731-9051-340815c9517b",
   "metadata": {},
   "outputs": [],
   "source": []
  },
  {
   "cell_type": "markdown",
   "id": "56e02c34-a721-4728-a8f5-22efd2f5209e",
   "metadata": {},
   "source": [
    "### __1. Import the dataset:__"
   ]
  },
  {
   "cell_type": "code",
   "execution_count": null,
   "id": "0aaa929d-a7a7-4cf5-8495-e81dd5c6b777",
   "metadata": {},
   "outputs": [],
   "source": []
  },
  {
   "cell_type": "code",
   "execution_count": null,
   "id": "bfa02b23-0331-45bf-b00b-1996bc276802",
   "metadata": {},
   "outputs": [],
   "source": []
  },
  {
   "cell_type": "markdown",
   "id": "1297d543-bb47-455f-9cc3-0e129221f760",
   "metadata": {},
   "source": [
    "### __2. Import the model:__"
   ]
  },
  {
   "cell_type": "code",
   "execution_count": null,
   "id": "7dc8cffe-e8e5-4167-a0c9-c01d1eaf76df",
   "metadata": {},
   "outputs": [],
   "source": []
  },
  {
   "cell_type": "markdown",
   "id": "b404fe0d-22d2-4a0c-be46-1f4d8213089c",
   "metadata": {},
   "source": [
    "### __3. Make prediction:__"
   ]
  },
  {
   "cell_type": "code",
   "execution_count": null,
   "id": "6a5f418f-f52e-490e-866f-2fa53bfded1d",
   "metadata": {},
   "outputs": [],
   "source": []
  },
  {
   "cell_type": "markdown",
   "id": "f91655c9-442a-4c5f-a1b1-af143e795ca7",
   "metadata": {},
   "source": [
    "### __4. The experiment:__"
   ]
  },
  {
   "cell_type": "code",
   "execution_count": null,
   "id": "cf0135cd-fbcf-4d4c-8d51-21631cb5e217",
   "metadata": {},
   "outputs": [],
   "source": []
  }
 ],
 "metadata": {
  "kernelspec": {
   "display_name": "Python 3 (ipykernel)",
   "language": "python",
   "name": "python3"
  },
  "language_info": {
   "codemirror_mode": {
    "name": "ipython",
    "version": 3
   },
   "file_extension": ".py",
   "mimetype": "text/x-python",
   "name": "python",
   "nbconvert_exporter": "python",
   "pygments_lexer": "ipython3",
   "version": "3.10.12"
  }
 },
 "nbformat": 4,
 "nbformat_minor": 5
}
