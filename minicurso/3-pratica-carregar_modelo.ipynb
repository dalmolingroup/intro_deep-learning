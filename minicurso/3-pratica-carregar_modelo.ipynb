{
 "cells": [
  {
   "cell_type": "code",
   "execution_count": 1,
   "id": "277c3dd3-9597-4731-9051-340815c9517b",
   "metadata": {},
   "outputs": [
    {
     "name": "stderr",
     "output_type": "stream",
     "text": [
      "2024-12-05 16:49:45.831679: I tensorflow/core/platform/cpu_feature_guard.cc:210] This TensorFlow binary is optimized to use available CPU instructions in performance-critical operations.\n",
      "To enable the following instructions: AVX2 FMA, in other operations, rebuild TensorFlow with the appropriate compiler flags.\n",
      "2024-12-05 16:49:46.982274: W tensorflow/compiler/tf2tensorrt/utils/py_utils.cc:38] TF-TRT Warning: Could not find TensorRT\n"
     ]
    }
   ],
   "source": [
    "import numpy as np\n",
    "import pandas as pd\n",
    "import matplotlib.pyplot as plt\n",
    "from tensorflow import keras\n",
    "\n",
    "from ferramentas import carregar_mnist, MeuModelo"
   ]
  },
  {
   "cell_type": "markdown",
   "id": "56e02c34-a721-4728-a8f5-22efd2f5209e",
   "metadata": {},
   "source": [
    "### __1. Importar os dados:__"
   ]
  },
  {
   "cell_type": "code",
   "execution_count": 2,
   "id": "10b34128-d7f4-44ee-b92a-cdc0bec2c6e8",
   "metadata": {},
   "outputs": [
    {
     "name": "stdout",
     "output_type": "stream",
     "text": [
      "x-train:(60000, 784), y-train:(60000, 10)\n",
      "x-test:(10000, 784),  y-test:(10000, 10)\n"
     ]
    },
    {
     "name": "stderr",
     "output_type": "stream",
     "text": [
      "2024-12-05 16:49:48.962999: E external/local_xla/xla/stream_executor/cuda/cuda_driver.cc:282] failed call to cuInit: CUDA_ERROR_NO_DEVICE: no CUDA-capable device is detected\n"
     ]
    }
   ],
   "source": [
    "# importar os dados do MNIST reformados:\n",
    "(x_train, y_train), (x_test, y_test) = carregar_mnist(reformar=True)"
   ]
  },
  {
   "cell_type": "markdown",
   "id": "1297d543-bb47-455f-9cc3-0e129221f760",
   "metadata": {},
   "source": [
    "### __2. Importar modelo:__"
   ]
  },
  {
   "cell_type": "code",
   "execution_count": 3,
   "id": "7dc8cffe-e8e5-4167-a0c9-c01d1eaf76df",
   "metadata": {},
   "outputs": [],
   "source": [
    "# importar o modelo:\n",
    "model = MeuModelo()\n",
    "\n",
    "# carregar os parâmetros internos:\n",
    "model.load_weights(\"mnist.weights.h5\")"
   ]
  },
  {
   "cell_type": "markdown",
   "id": "c0e875dc-7d57-42fb-a03b-19948e2de183",
   "metadata": {},
   "source": [
    "### __3. Fazer predições com os dados de teste__:"
   ]
  },
  {
   "cell_type": "code",
   "execution_count": 4,
   "id": "6467d3e7-1d3b-4434-8b79-ca40bec3b639",
   "metadata": {},
   "outputs": [
    {
     "name": "stdout",
     "output_type": "stream",
     "text": [
      "\u001b[1m313/313\u001b[0m \u001b[32m━━━━━━━━━━━━━━━━━━━━\u001b[0m\u001b[37m\u001b[0m \u001b[1m0s\u001b[0m 1ms/step\n"
     ]
    }
   ],
   "source": [
    "y_pred = model.predict(x_test)"
   ]
  },
  {
   "cell_type": "code",
   "execution_count": 5,
   "id": "08055b4c-155b-421a-88cc-4196485dca17",
   "metadata": {},
   "outputs": [
    {
     "name": "stdout",
     "output_type": "stream",
     "text": [
      " Verdadeiro vs Predito\n",
      "\n",
      "Número: 9,\t9  ->  True\n",
      "Número: 7,\t7  ->  True\n",
      "Número: 0,\t0  ->  True\n",
      "Número: 1,\t1  ->  True\n",
      "Número: 9,\t9  ->  True\n",
      "Número: 4,\t4  ->  True\n",
      "Número: 0,\t0  ->  True\n",
      "Número: 6,\t6  ->  True\n",
      "Número: 3,\t3  ->  True\n",
      "Número: 8,\t8  ->  True\n"
     ]
    }
   ],
   "source": [
    "num_amostras = 10\n",
    "\n",
    "n = np.random.randint(low=0, high=len(y_test)-1, size=num_amostras)\n",
    "\n",
    "print(\" Verdadeiro vs Predito\\n\")\n",
    "\n",
    "for y1, y2 in zip(y_test[n], y_pred[n]):\n",
    "\n",
    "    rotulo_verdadeiro = np.argmax(y1)\n",
    "    rotulo_predito = np.argmax(y2)\n",
    "\n",
    "    print(f\"Número: {rotulo_verdadeiro},\\t{rotulo_predito}  ->  {rotulo_verdadeiro == rotulo_predito}\")\n",
    "    "
   ]
  }
 ],
 "metadata": {
  "kernelspec": {
   "display_name": "Python 3 (ipykernel)",
   "language": "python",
   "name": "python3"
  },
  "language_info": {
   "codemirror_mode": {
    "name": "ipython",
    "version": 3
   },
   "file_extension": ".py",
   "mimetype": "text/x-python",
   "name": "python",
   "nbconvert_exporter": "python",
   "pygments_lexer": "ipython3",
   "version": "3.12.2"
  }
 },
 "nbformat": 4,
 "nbformat_minor": 5
}
