{
 "cells": [
  {
   "cell_type": "markdown",
   "id": "a3f7364e-feaf-4c08-a796-4d8cfc75e73c",
   "metadata": {},
   "source": [
    "## __How to deal with probability distribution in DL:__\n",
    "<font size=3>\n",
    "\n",
    "Here, we are going to learn:\n",
    "* How to encoding data labels into probability distributions;\n",
    "* How the NN model outputs a probability distribution;\n",
    "* Which loss function optimizes probability distributions."
   ]
  },
  {
   "cell_type": "code",
   "execution_count": 1,
   "id": "d1a4843d-9240-4dfb-9760-2190f79474a6",
   "metadata": {},
   "outputs": [
    {
     "name": "stderr",
     "output_type": "stream",
     "text": [
      "2024-11-14 12:24:12.242003: I tensorflow/core/platform/cpu_feature_guard.cc:210] This TensorFlow binary is optimized to use available CPU instructions in performance-critical operations.\n",
      "To enable the following instructions: AVX2 FMA, in other operations, rebuild TensorFlow with the appropriate compiler flags.\n",
      "2024-11-14 12:24:13.653955: W tensorflow/compiler/tf2tensorrt/utils/py_utils.cc:38] TF-TRT Warning: Could not find TensorRT\n"
     ]
    }
   ],
   "source": [
    "import numpy as np\n",
    "import matplotlib.pyplot as plt\n",
    "from tensorflow.keras import datasets, activations, losses"
   ]
  },
  {
   "cell_type": "markdown",
   "id": "56e02c34-a721-4728-a8f5-22efd2f5209e",
   "metadata": {},
   "source": [
    "### __1. How to encoding data labels into probability distributions:__\n",
    "<font size=3>\n",
    "    \n",
    "Let's consider a supervised regression task using the classical [MNIST](https://en.wikipedia.org/wiki/MNIST_database) handwritten digits. The data is available in the [Keras dataset](https://keras.io/api/datasets/mnist/).  "
   ]
  },
  {
   "cell_type": "code",
   "execution_count": 2,
   "id": "9fa26d70-81e0-446e-a423-fedcb7823fdb",
   "metadata": {},
   "outputs": [
    {
     "name": "stdout",
     "output_type": "stream",
     "text": [
      "x-train:(60000, 28, 28), y-train:(60000,)\n",
      "x-test:(10000, 28, 28), y-test:(10000,)\n"
     ]
    },
    {
     "data": {
      "image/png": "[encoded data removed]",
      "text/plain": [
       "<Figure size 500x300 with 1 Axes>"
      ]
     },
     "metadata": {},
     "output_type": "display_data"
    }
   ],
   "source": [
    "# import MNIST data:\n",
    "(x_train, y_train), (x_test, y_test) = datasets.mnist.load_data(path=\"mnist.npz\")\n",
    "\n",
    "print(f\"x-train:{x_train.shape}, y-train:{y_train.shape}\")\n",
    "print(f\"x-test:{x_test.shape}, y-test:{y_test.shape}\")\n",
    "\n",
    "# visualizing handwritten digits:\n",
    "i = 0\n",
    "\n",
    "plt.figure(figsize=(5,3))\n",
    "plt.title(\"Number \"+str(y_train[i]))\n",
    "plt.imshow(x_train[i], cmap='gray')\n",
    "plt.xticks([])\n",
    "plt.yticks([])\n",
    "plt.show()"
   ]
  },
  {
   "cell_type": "markdown",
   "id": "b6c00c1b-6ba4-4f5f-bbfe-9e8d86ba1865",
   "metadata": {},
   "source": [
    "#### __One-hot encoding:__\n",
    "<font size=3>\n",
    "    \n",
    "One-hot encoding is a technique for multiclass data numerical encoding, such as the digit's labels $(0,1,2,3,4,5,6,7,8,9)$. It involves representing a label as the maximum probability in a vector with the same size as the number of classes. This means the label is assigned a vector position with a probability of 1, while the coefficients of the other vectors receive a probability of 0.\n",
    "\n",
    "$0:(1,0,0,0,0,0,0,0,0,0);\\; 1: (0,1,0,0,0,0,0,0,0,0);\\; \\cdots;\\; 9: (0,0,0,0,0,0,0,0,0,1)$\n",
    "\n",
    "For digit $\\mathbf 3$, the model can output $(2.4,6.2,1.2,\\mathbf{9.6},0.8,4.7,3.1,1.7,5.3,4.3)$.\n",
    "\n",
    "We can use TensorFlow's [one_hot](https://www.tensorflow.org/api_docs/python/tf/one_hot) function to do the encoding, or we can do it by \"hand\" as following."
   ]
  },
  {
   "cell_type": "code",
   "execution_count": 3,
   "id": "e3f01dce-a8ec-498b-b8f5-e6d74e749985",
   "metadata": {},
   "outputs": [
    {
     "name": "stdout",
     "output_type": "stream",
     "text": [
      "After one-hot y-train(0:4) =\n",
      " [5 0 4 1] \n",
      "\n",
      "Before one-hot y-train(0:4) =\n",
      " [[0. 0. 0. 0. 0. 1. 0. 0. 0. 0.]\n",
      " [1. 0. 0. 0. 0. 0. 0. 0. 0. 0.]\n",
      " [0. 0. 0. 0. 1. 0. 0. 0. 0. 0.]\n",
      " [0. 1. 0. 0. 0. 0. 0. 0. 0. 0.]] \n",
      "\n"
     ]
    }
   ],
   "source": [
    "# one-hot encoding for label data:\n",
    "\n",
    "def one_hot(labels):\n",
    "    N = labels.size\n",
    "    \n",
    "    y_hot = np.zeros((N, 10), dtype=\"float32\")\n",
    "    \n",
    "    for i, y in enumerate(labels):\n",
    "        y_hot[i][y] = 1\n",
    "\n",
    "    return y_hot\n",
    "\n",
    "print(\"After one-hot y-train(0:4) =\\n\", y_train[:4], \"\\n\")\n",
    "\n",
    "y_train = one_hot(y_train)\n",
    "\n",
    "print(\"Before one-hot y-train(0:4) =\\n\", y_train[:4], \"\\n\")\n"
   ]
  },
  {
   "cell_type": "markdown",
   "id": "1297d543-bb47-455f-9cc3-0e129221f760",
   "metadata": {},
   "source": [
    "### __2. How the NN model outputs a probability distribution:__\n",
    "<font size=3>\n",
    "\n",
    "When the model needs a probability distribution output vector, we use the [softmax activation function](https://en.wikipedia.org/wiki/Softmax_function) to range the values in the interval $[0,\\,1]$ and sum  to $1$, given by\n",
    "$$\n",
    "    \\sigma_l(\\vec a_l) = \\frac{e^{a_l^i}}{\\sum_{j=1} e^{a_l^j}} \\, .\n",
    "$$"
   ]
  },
  {
   "cell_type": "code",
   "execution_count": 4,
   "id": "4f8b1491-f0a8-44f3-a8b1-b62c45c5ab2f",
   "metadata": {},
   "outputs": [
    {
     "name": "stderr",
     "output_type": "stream",
     "text": [
      "2024-11-14 12:24:16.309555: E external/local_xla/xla/stream_executor/cuda/cuda_driver.cc:282] failed call to cuInit: CUDA_ERROR_NO_DEVICE: no CUDA-capable device is detected\n"
     ]
    },
    {
     "name": "stdout",
     "output_type": "stream",
     "text": [
      "min = 0.00, max = 0.02, sum = 1.00\n"
     ]
    },
    {
     "data": {
      "image/png": "[encoded data removed]",
      "text/plain": [
       "<Figure size 500x350 with 1 Axes>"
      ]
     },
     "metadata": {},
     "output_type": "display_data"
    }
   ],
   "source": [
    "x = np.linspace(-5, 5, 500)\n",
    "\n",
    "σ = activations.softmax(x)\n",
    "\n",
    "print(f\"min = {np.min(σ):.2f}, max = {np.max(σ):.2f}, sum = {np.sum(σ):.2f}\")\n",
    "\n",
    "plt.figure(figsize=(5, 3.5))\n",
    "plt.plot(x, σ)\n",
    "plt.grid()\n",
    "plt.show()"
   ]
  },
  {
   "cell_type": "markdown",
   "id": "7ae4a62d-4668-449c-81ce-20e30b0e83bd",
   "metadata": {},
   "source": [
    "<font size=3>\n",
    "\n",
    "Note: In the example above, the exponential function allows us to distinguish the normalization of two vectors based on the same scale factor."
   ]
  },
  {
   "cell_type": "code",
   "execution_count": 5,
   "id": "3e3e8b98-a4e2-4402-a6e0-b0fcc4c2ca6d",
   "metadata": {},
   "outputs": [
    {
     "name": "stdout",
     "output_type": "stream",
     "text": [
      "norm([3, 6]) = [0.33333333 0.66666667], norm([6, 12]) = [0.33333333 0.66666667]\n",
      "\n",
      "softmax([3, 6]) = [0.04742587 0.95257413], softmax([6, 12]) = [0.00247262 0.99752738]\n"
     ]
    }
   ],
   "source": [
    "# comparing softmax with standard normalization:\n",
    "def norm(x):\n",
    "    return x/np.sum(x)\n",
    "\n",
    "v1 = np.array([3.0, 6.0])\n",
    "v2 = np.array([6.0, 12.0])\n",
    "\n",
    "print(f\"norm([3, 6]) = {norm(v1)}, norm([6, 12]) = {norm(v2)}\\n\")\n",
    "print(f\"softmax([3, 6]) = {activations.softmax(v1)}, softmax([6, 12]) = {activations.softmax(v2)}\")"
   ]
  },
  {
   "cell_type": "markdown",
   "id": "626664fc-593b-4539-ac60-4903c5734b58",
   "metadata": {},
   "source": [
    "### __3. Which loss function optimizes probability distributions.:__\n",
    "<font size=3>\n",
    "\n",
    "For loss function optimization, the [Cross-Entropy function](https://en.wikipedia.org/wiki/Cross-entropy) can be used to handle probability distributions. It measures the match between the predicted distribution $q$ and the true distribution $p$, \n",
    "$$\n",
    "    H(p,\\,q) = -\\sum_i p_i\\,\\ln q_i \\, .\n",
    "$$\n",
    "\n",
    "In Keras, we have a [list of probability losses](https://keras.io/api/losses/) where the [categorical cross-entropy loss](https://keras.io/api/losses/probabilistic_losses/#categoricalcrossentropy-class) is best suited to dealing with multiclass one-hot labels."
   ]
  },
  {
   "cell_type": "code",
   "execution_count": 6,
   "id": "9267422b-5189-43cd-9bb3-7cc5a03bc5ca",
   "metadata": {},
   "outputs": [
    {
     "name": "stdout",
     "output_type": "stream",
     "text": [
      "H1 (great disorder) = tf.Tensor(0.9199205, shape=(), dtype=float32)\n",
      "H2 (small disorder) = tf.Tensor(0.29815337, shape=(), dtype=float32)\n"
     ]
    }
   ],
   "source": [
    "p = np.array([0.0, 1.0, 0.0, 0.0])\n",
    "\n",
    "q1 = np.array([0.8, 5.5, 5.2, 2.3])\n",
    "q2 = np.array([0.0, 9.5, 3.2, 0.1])\n",
    "\n",
    "H1 = losses.CategoricalCrossentropy()(p, q1)\n",
    "print(\"H1 (great disorder) =\", H1)\n",
    "\n",
    "H2 = losses.CategoricalCrossentropy()(p, q2)\n",
    "print(\"H2 (small disorder) =\", H2) "
   ]
  },
  {
   "cell_type": "markdown",
   "id": "dd1006c9-50c7-4341-a265-a9221ae1ebca",
   "metadata": {},
   "source": [
    "### __Reference__:\n",
    "<font size=3>\n",
    "    \n",
    "* [Softmax activation function: how it actually works](https://towardsdatascience.com/softmax-activation-function-how-it-actually-works-d292d335bd78);\n",
    "* [Cross-entropy loss function](https://towardsdatascience.com/cross-entropy-loss-function-f38c4ec8643e)."
   ]
  }
 ],
 "metadata": {
  "kernelspec": {
   "display_name": "Python 3 (ipykernel)",
   "language": "python",
   "name": "python3"
  },
  "language_info": {
   "codemirror_mode": {
    "name": "ipython",
    "version": 3
   },
   "file_extension": ".py",
   "mimetype": "text/x-python",
   "name": "python",
   "nbconvert_exporter": "python",
   "pygments_lexer": "ipython3",
   "version": "3.12.2"
  }
 },
 "nbformat": 4,
 "nbformat_minor": 5
}
