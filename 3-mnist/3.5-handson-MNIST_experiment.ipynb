{
 "cells": [
  {
   "cell_type": "markdown",
   "id": "13a5a5a4-a551-478e-86a3-f69413ec5e26",
   "metadata": {},
   "source": [
    "## __Dense MNIST experiment:__\n",
    "<font size=3>\n",
    "\n",
    "Let's now make two experiments with our best dense model for MNIST handwritten digits problem:\n",
    "* __Experiment I:__ Select a digit image for prediction and rotate it 90°;\n",
    "* __Experiment II:__ Select a digit image for prediction and make the negative version of this image."
   ]
  },
  {
   "cell_type": "code",
   "execution_count": 1,
   "id": "277c3dd3-9597-4731-9051-340815c9517b",
   "metadata": {},
   "outputs": [
    {
     "name": "stderr",
     "output_type": "stream",
     "text": [
      "2024-11-14 12:28:43.758918: I tensorflow/core/platform/cpu_feature_guard.cc:210] This TensorFlow binary is optimized to use available CPU instructions in performance-critical operations.\n",
      "To enable the following instructions: AVX2 FMA, in other operations, rebuild TensorFlow with the appropriate compiler flags.\n",
      "2024-11-14 12:28:44.754468: W tensorflow/compiler/tf2tensorrt/utils/py_utils.cc:38] TF-TRT Warning: Could not find TensorRT\n"
     ]
    }
   ],
   "source": [
    "import numpy as np\n",
    "import matplotlib.pyplot as plt\n",
    "\n",
    "from toolbox import load_mnist, dense_mnist"
   ]
  },
  {
   "cell_type": "markdown",
   "id": "56e02c34-a721-4728-a8f5-22efd2f5209e",
   "metadata": {},
   "source": [
    "### __1. Import the dataset:__"
   ]
  },
  {
   "cell_type": "code",
   "execution_count": 2,
   "id": "0aaa929d-a7a7-4cf5-8495-e81dd5c6b777",
   "metadata": {},
   "outputs": [
    {
     "name": "stdout",
     "output_type": "stream",
     "text": [
      "x-train:(48000, 784), x-val:(12000, 784), x-test:(10000, 784)\n",
      "y-train:(48000, 10), y-val:(12000, 10), y-test:(10000, 10)\n",
      "x-train:(48000, 784), x-val:(12000, 784), x-test:(10000, 784)\n",
      "y-train:(48000, 10), y-val:(12000, 10), y-test:(10000, 10)\n"
     ]
    }
   ],
   "source": [
    "(x_train, y_train), (x_val, y_val), (x_test, y_test) = load_mnist()\n",
    "\n",
    "print(f\"x-train:{x_train.shape}, x-val:{x_val.shape}, x-test:{x_test.shape}\")\n",
    "print(f\"y-train:{y_train.shape}, y-val:{y_val.shape}, y-test:{y_test.shape}\")"
   ]
  },
  {
   "cell_type": "code",
   "execution_count": 3,
   "id": "bfa02b23-0331-45bf-b00b-1996bc276802",
   "metadata": {},
   "outputs": [
    {
     "data": {
      "image/png": "[encoded data removed]",
      "text/plain": [
       "<Figure size 500x300 with 1 Axes>"
      ]
     },
     "metadata": {},
     "output_type": "display_data"
    }
   ],
   "source": [
    "# visualizing handwritten digits:\n",
    "i = 6\n",
    "label = np.argmax(y_train[i])\n",
    "digit = np.reshape(x_train[i], (28, 28))\n",
    "\n",
    "plt.figure(figsize=(5,3))\n",
    "plt.title(\"Number \"+str(label))\n",
    "plt.imshow(digit, cmap='gray')\n",
    "plt.xticks([])\n",
    "plt.yticks([])\n",
    "plt.show()"
   ]
  },
  {
   "cell_type": "markdown",
   "id": "1297d543-bb47-455f-9cc3-0e129221f760",
   "metadata": {},
   "source": [
    "### __2. Import the model:__"
   ]
  },
  {
   "cell_type": "code",
   "execution_count": 4,
   "id": "7dc8cffe-e8e5-4167-a0c9-c01d1eaf76df",
   "metadata": {},
   "outputs": [
    {
     "name": "stderr",
     "output_type": "stream",
     "text": [
      "2024-11-14 12:28:46.997931: E external/local_xla/xla/stream_executor/cuda/cuda_driver.cc:282] failed call to cuInit: CUDA_ERROR_NO_DEVICE: no CUDA-capable device is detected\n"
     ]
    }
   ],
   "source": [
    "model = dense_mnist()\n",
    "\n",
    "model.load_weights(\"../weights/dense_mnist.weights.h5\")"
   ]
  },
  {
   "cell_type": "markdown",
   "id": "b404fe0d-22d2-4a0c-be46-1f4d8213089c",
   "metadata": {},
   "source": [
    "### __3. Make prediction:__"
   ]
  },
  {
   "cell_type": "code",
   "execution_count": 5,
   "id": "6a5f418f-f52e-490e-866f-2fa53bfded1d",
   "metadata": {},
   "outputs": [
    {
     "data": {
      "image/png": "[encoded data removed]",
      "text/plain": [
       "<Figure size 500x300 with 1 Axes>"
      ]
     },
     "metadata": {},
     "output_type": "display_data"
    },
    {
     "name": "stdout",
     "output_type": "stream",
     "text": [
      "\u001b[1m1/1\u001b[0m \u001b[32m━━━━━━━━━━━━━━━━━━━━\u001b[0m\u001b[37m\u001b[0m \u001b[1m0s\u001b[0m 81ms/step\n",
      "Prediction: 3\n"
     ]
    }
   ],
   "source": [
    "# visualizing handwritten digits:\n",
    "i = 0\n",
    "label = np.argmax(y_train[i])\n",
    "digit = np.reshape(x_train[i], (28, 28))\n",
    "\n",
    "plt.figure(figsize=(5,3))\n",
    "plt.title(\"Number \"+str(label))\n",
    "plt.imshow(digit, cmap='gray')\n",
    "plt.xticks([])\n",
    "plt.yticks([])\n",
    "plt.show()\n",
    "\n",
    "x = np.expand_dims(x_train[i], axis=0)\n",
    "pred = model.predict(x)\n",
    "\n",
    "print(\"Prediction:\", np.argmax(pred))"
   ]
  },
  {
   "cell_type": "markdown",
   "id": "f91655c9-442a-4c5f-a1b1-af143e795ca7",
   "metadata": {},
   "source": [
    "### __4. The experiments:__\n",
    "#### __4.1 Image rotation__"
   ]
  },
  {
   "cell_type": "code",
   "execution_count": 6,
   "id": "cf0135cd-fbcf-4d4c-8d51-21631cb5e217",
   "metadata": {},
   "outputs": [
    {
     "data": {
      "image/png": "[encoded data removed]",
      "text/plain": [
       "<Figure size 500x300 with 1 Axes>"
      ]
     },
     "metadata": {},
     "output_type": "display_data"
    },
    {
     "name": "stdout",
     "output_type": "stream",
     "text": [
      "\u001b[1m1/1\u001b[0m \u001b[32m━━━━━━━━━━━━━━━━━━━━\u001b[0m\u001b[37m\u001b[0m \u001b[1m0s\u001b[0m 15ms/step\n",
      "Prediction: 4\n"
     ]
    }
   ],
   "source": [
    "# visualizing handwritten digits:\n",
    "i = 0\n",
    "label = np.argmax(y_train[i])\n",
    "digit = np.reshape(x_train[i], (28, 28))\n",
    "\n",
    "digit_new = digit.T\n",
    "\n",
    "plt.figure(figsize=(5,3))\n",
    "plt.title(\"Number \"+str(label))\n",
    "plt.imshow(digit_new, cmap='gray')\n",
    "plt.xticks([])\n",
    "plt.yticks([])\n",
    "plt.show()\n",
    "\n",
    "x = np.reshape(digit_new, (1, 28*28))\n",
    "\n",
    "pred = model.predict(x)\n",
    "\n",
    "print(\"Prediction:\", np.argmax(pred))"
   ]
  },
  {
   "cell_type": "markdown",
   "id": "11028e09-b25a-461d-9947-e56ea46ff61e",
   "metadata": {},
   "source": [
    "#### __4.2 Negative image__"
   ]
  },
  {
   "cell_type": "code",
   "execution_count": 7,
   "id": "73402a24-7952-41a6-9c3c-cdd935e95664",
   "metadata": {},
   "outputs": [
    {
     "data": {
      "image/png": "[encoded data removed]",
      "text/plain": [
       "<Figure size 500x300 with 1 Axes>"
      ]
     },
     "metadata": {},
     "output_type": "display_data"
    },
    {
     "name": "stdout",
     "output_type": "stream",
     "text": [
      "\u001b[1m1/1\u001b[0m \u001b[32m━━━━━━━━━━━━━━━━━━━━\u001b[0m\u001b[37m\u001b[0m \u001b[1m0s\u001b[0m 16ms/step\n",
      "Prediction: 2\n"
     ]
    }
   ],
   "source": [
    "digit = np.reshape(x_train[i], (28, 28))\n",
    "\n",
    "digit_new = digit.max() - digit\n",
    "\n",
    "plt.figure(figsize=(5,3))\n",
    "plt.title(\"Number \"+str(label))\n",
    "plt.imshow(digit_new, cmap='gray')\n",
    "plt.xticks([])\n",
    "plt.yticks([])\n",
    "plt.show()\n",
    "\n",
    "x = np.reshape(digit_new, (1, 28*28))\n",
    "\n",
    "pred = model.predict(x)\n",
    "\n",
    "print(\"Prediction:\", np.argmax(pred))"
   ]
  }
 ],
 "metadata": {
  "kernelspec": {
   "display_name": "Python 3 (ipykernel)",
   "language": "python",
   "name": "python3"
  },
  "language_info": {
   "codemirror_mode": {
    "name": "ipython",
    "version": 3
   },
   "file_extension": ".py",
   "mimetype": "text/x-python",
   "name": "python",
   "nbconvert_exporter": "python",
   "pygments_lexer": "ipython3",
   "version": "3.12.2"
  }
 },
 "nbformat": 4,
 "nbformat_minor": 5
}
