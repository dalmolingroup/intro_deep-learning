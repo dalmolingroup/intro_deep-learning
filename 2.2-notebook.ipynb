{
 "cells": [
  {
   "cell_type": "code",
   "execution_count": null,
   "id": "277c3dd3-9597-4731-9051-340815c9517b",
   "metadata": {},
   "outputs": [],
   "source": [
    "import numpy as np\n",
    "import pandas as pd\n",
    "import matplotlib.pyplot as plt\n",
    "from tensorflow import keras"
   ]
  },
  {
   "cell_type": "markdown",
   "id": "56e02c34-a721-4728-a8f5-22efd2f5209e",
   "metadata": {},
   "source": [
    "### __1. Import (x, y)-test arrays:__"
   ]
  },
  {
   "cell_type": "code",
   "execution_count": null,
   "id": "dc798d16-acd6-4eb6-a9f9-2bfd01d7b180",
   "metadata": {},
   "outputs": [],
   "source": []
  },
  {
   "cell_type": "markdown",
   "id": "1297d543-bb47-455f-9cc3-0e129221f760",
   "metadata": {},
   "source": [
    "### __2. Import model:__\n",
    "<font size=3>\n",
    "    \n",
    "* Import model from _toolbox_;\n",
    "* Load model's weights and bias."
   ]
  },
  {
   "cell_type": "code",
   "execution_count": null,
   "id": "7dc8cffe-e8e5-4167-a0c9-c01d1eaf76df",
   "metadata": {},
   "outputs": [],
   "source": []
  },
  {
   "cell_type": "code",
   "execution_count": null,
   "id": "c1c7353e-c61a-4a45-8576-2bdd97c4e6a5",
   "metadata": {},
   "outputs": [],
   "source": []
  },
  {
   "cell_type": "markdown",
   "id": "c0e875dc-7d57-42fb-a03b-19948e2de183",
   "metadata": {},
   "source": [
    "### __3. Test evaluation__:\n",
    "\n",
    "    6.1 Make the evaluation using the test data;\n",
    "    6.1 Make some predictions to visualize the results;\n",
    "   "
   ]
  },
  {
   "cell_type": "raw",
   "id": "b0d91148-bb96-42b4-882a-9dfb364d4041",
   "metadata": {},
   "source": [
    "model.compile(loss='mse', metrics=['acc'])\n",
    "\n",
    "model.evaluate(x=x_test, y=y_test)"
   ]
  },
  {
   "cell_type": "raw",
   "id": "5cc15fd0-6a6c-47ce-97d0-32e64124c522",
   "metadata": {
    "scrolled": true
   },
   "source": [
    "pred = model.predict(x_test)\n",
    "\n",
    "for p, y in zip(pred, y_test):\n",
    "    \n",
    "    label = 1.0 if p > 0.5 else 0.0\n",
    "\n",
    "    print(f\"pred = {p[0]:.3f}, label = {label}, y-test = {y[0]}\")\n",
    "        "
   ]
  }
 ],
 "metadata": {
  "kernelspec": {
   "display_name": "Python 3 (ipykernel)",
   "language": "python",
   "name": "python3"
  },
  "language_info": {
   "codemirror_mode": {
    "name": "ipython",
    "version": 3
   },
   "file_extension": ".py",
   "mimetype": "text/x-python",
   "name": "python",
   "nbconvert_exporter": "python",
   "pygments_lexer": "ipython3",
   "version": "3.10.12"
  }
 },
 "nbformat": 4,
 "nbformat_minor": 5
}
