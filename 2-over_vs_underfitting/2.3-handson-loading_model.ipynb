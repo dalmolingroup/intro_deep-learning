{
 "cells": [
  {
   "cell_type": "code",
   "execution_count": 1,
   "id": "277c3dd3-9597-4731-9051-340815c9517b",
   "metadata": {},
   "outputs": [
    {
     "name": "stderr",
     "output_type": "stream",
     "text": [
      "2024-11-14 12:08:17.069094: I tensorflow/core/platform/cpu_feature_guard.cc:210] This TensorFlow binary is optimized to use available CPU instructions in performance-critical operations.\n",
      "To enable the following instructions: AVX2 FMA, in other operations, rebuild TensorFlow with the appropriate compiler flags.\n",
      "2024-11-14 12:08:18.234976: W tensorflow/compiler/tf2tensorrt/utils/py_utils.cc:38] TF-TRT Warning: Could not find TensorRT\n"
     ]
    }
   ],
   "source": [
    "import numpy as np\n",
    "import pandas as pd\n",
    "import matplotlib.pyplot as plt\n",
    "from tensorflow import keras\n",
    "\n",
    "from toolbox import MyModel"
   ]
  },
  {
   "cell_type": "markdown",
   "id": "56e02c34-a721-4728-a8f5-22efd2f5209e",
   "metadata": {},
   "source": [
    "### __1. Import (x, y)-test arrays:__"
   ]
  },
  {
   "cell_type": "code",
   "execution_count": 2,
   "id": "0aaa929d-a7a7-4cf5-8495-e81dd5c6b777",
   "metadata": {},
   "outputs": [
    {
     "data": {
      "text/plain": [
       "((31, 6), (31, 1))"
      ]
     },
     "execution_count": 2,
     "metadata": {},
     "output_type": "execute_result"
    }
   ],
   "source": [
    "x_test = np.load(\"../dataset/x_test.npy\")\n",
    "y_test = np.load(\"../dataset/y_test.npy\")\n",
    "\n",
    "x_test.shape, y_test.shape"
   ]
  },
  {
   "cell_type": "markdown",
   "id": "1297d543-bb47-455f-9cc3-0e129221f760",
   "metadata": {},
   "source": [
    "### __2. Import model:__\n",
    "<font size=3>\n",
    "    \n",
    "* Import model from _toolbox_;\n",
    "* Load model's weights and bias."
   ]
  },
  {
   "cell_type": "code",
   "execution_count": 3,
   "id": "7dc8cffe-e8e5-4167-a0c9-c01d1eaf76df",
   "metadata": {},
   "outputs": [
    {
     "name": "stderr",
     "output_type": "stream",
     "text": [
      "2024-11-14 12:08:19.906733: E external/local_xla/xla/stream_executor/cuda/cuda_driver.cc:282] failed call to cuInit: CUDA_ERROR_NO_DEVICE: no CUDA-capable device is detected\n"
     ]
    }
   ],
   "source": [
    "model = MyModel()\n",
    "\n",
    "model.load_weights(\"../weights/model.weights.h5\")"
   ]
  },
  {
   "cell_type": "markdown",
   "id": "c0e875dc-7d57-42fb-a03b-19948e2de183",
   "metadata": {},
   "source": [
    "### __3. Test evaluation__:\n",
    "\n",
    "    6.1 Make the evaluation using the test data;\n",
    "    6.1 Make some predictions to visualize the results;\n",
    "   "
   ]
  },
  {
   "cell_type": "code",
   "execution_count": 4,
   "id": "40b35ffb-03ad-4504-ac21-28f3d96f3363",
   "metadata": {},
   "outputs": [
    {
     "name": "stdout",
     "output_type": "stream",
     "text": [
      "\u001b[1m1/1\u001b[0m \u001b[32m━━━━━━━━━━━━━━━━━━━━\u001b[0m\u001b[37m\u001b[0m \u001b[1m0s\u001b[0m 210ms/step - acc: 0.7419 - loss: 0.1979\n"
     ]
    },
    {
     "data": {
      "text/plain": [
       "[0.19787435233592987, 0.7419354915618896]"
      ]
     },
     "execution_count": 4,
     "metadata": {},
     "output_type": "execute_result"
    }
   ],
   "source": [
    "model.compile(loss='mse', metrics=['acc'])\n",
    "\n",
    "model.evaluate(x=x_test, y=y_test)"
   ]
  },
  {
   "cell_type": "code",
   "execution_count": 5,
   "id": "f7ecf05d-a0f5-4405-a12c-b3a412b216f5",
   "metadata": {},
   "outputs": [
    {
     "name": "stdout",
     "output_type": "stream",
     "text": [
      "\u001b[1m1/1\u001b[0m \u001b[32m━━━━━━━━━━━━━━━━━━━━\u001b[0m\u001b[37m\u001b[0m \u001b[1m0s\u001b[0m 46ms/step\n",
      "pred = 0.662, label = 1.0, y-test = 1.0\n",
      "pred = 0.662, label = 1.0, y-test = 0.0\n",
      "pred = 0.662, label = 1.0, y-test = 0.0\n",
      "pred = 0.662, label = 1.0, y-test = 0.0\n",
      "pred = 0.662, label = 1.0, y-test = 1.0\n",
      "pred = 0.662, label = 1.0, y-test = 1.0\n",
      "pred = 0.662, label = 1.0, y-test = 1.0\n",
      "pred = 0.662, label = 1.0, y-test = 1.0\n",
      "pred = 0.661, label = 1.0, y-test = 0.0\n",
      "pred = 0.662, label = 1.0, y-test = 1.0\n",
      "pred = 0.662, label = 1.0, y-test = 1.0\n",
      "pred = 0.662, label = 1.0, y-test = 1.0\n",
      "pred = 0.662, label = 1.0, y-test = 1.0\n",
      "pred = 0.662, label = 1.0, y-test = 0.0\n",
      "pred = 0.662, label = 1.0, y-test = 0.0\n",
      "pred = 0.662, label = 1.0, y-test = 1.0\n",
      "pred = 0.661, label = 1.0, y-test = 0.0\n",
      "pred = 0.662, label = 1.0, y-test = 1.0\n",
      "pred = 0.662, label = 1.0, y-test = 1.0\n",
      "pred = 0.662, label = 1.0, y-test = 1.0\n",
      "pred = 0.662, label = 1.0, y-test = 1.0\n",
      "pred = 0.662, label = 1.0, y-test = 1.0\n",
      "pred = 0.662, label = 1.0, y-test = 1.0\n",
      "pred = 0.662, label = 1.0, y-test = 0.0\n",
      "pred = 0.662, label = 1.0, y-test = 1.0\n",
      "pred = 0.662, label = 1.0, y-test = 1.0\n",
      "pred = 0.662, label = 1.0, y-test = 1.0\n",
      "pred = 0.661, label = 1.0, y-test = 1.0\n",
      "pred = 0.662, label = 1.0, y-test = 1.0\n",
      "pred = 0.662, label = 1.0, y-test = 1.0\n",
      "pred = 0.662, label = 1.0, y-test = 1.0\n"
     ]
    }
   ],
   "source": [
    "pred = model.predict(x_test)\n",
    "\n",
    "for p, y in zip(pred, y_test):\n",
    "    \n",
    "    label = 1.0 if p > 0.5 else 0.0\n",
    "\n",
    "    print(f\"pred = {p[0]:.3f}, label = {label}, y-test = {y[0]}\")\n",
    "        "
   ]
  }
 ],
 "metadata": {
  "kernelspec": {
   "display_name": "Python 3 (ipykernel)",
   "language": "python",
   "name": "python3"
  },
  "language_info": {
   "codemirror_mode": {
    "name": "ipython",
    "version": 3
   },
   "file_extension": ".py",
   "mimetype": "text/x-python",
   "name": "python",
   "nbconvert_exporter": "python",
   "pygments_lexer": "ipython3",
   "version": "3.12.2"
  }
 },
 "nbformat": 4,
 "nbformat_minor": 5
}
