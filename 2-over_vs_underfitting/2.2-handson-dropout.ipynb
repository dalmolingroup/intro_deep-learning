{
 "cells": [
  {
   "cell_type": "code",
   "execution_count": 1,
   "id": "277c3dd3-9597-4731-9051-340815c9517b",
   "metadata": {},
   "outputs": [
    {
     "name": "stderr",
     "output_type": "stream",
     "text": [
      "2024-11-14 12:05:42.460764: I tensorflow/core/platform/cpu_feature_guard.cc:210] This TensorFlow binary is optimized to use available CPU instructions in performance-critical operations.\n",
      "To enable the following instructions: AVX2 FMA, in other operations, rebuild TensorFlow with the appropriate compiler flags.\n",
      "2024-11-14 12:05:43.584613: W tensorflow/compiler/tf2tensorrt/utils/py_utils.cc:38] TF-TRT Warning: Could not find TensorRT\n"
     ]
    }
   ],
   "source": [
    "import numpy as np\n",
    "import pandas as pd\n",
    "import matplotlib.pyplot as plt\n",
    "from tensorflow import keras"
   ]
  },
  {
   "cell_type": "markdown",
   "id": "b8ba7112-8800-452f-8614-0908a99637a7",
   "metadata": {},
   "source": [
    "### __Deep Learning workflow:__\n",
    "<font size=3>\n",
    "    \n",
    "1. Import and data pre-processing;   \n",
    "2. Neural network modeling;\n",
    "3. Model compilation;\n",
    "4. Train and validation;\n",
    "5. Final training;\n",
    "6. Test evaluation;\n",
    "7. Saving the model."
   ]
  },
  {
   "cell_type": "markdown",
   "id": "56e02c34-a721-4728-a8f5-22efd2f5209e",
   "metadata": {},
   "source": [
    "### __1. Import and data pre-processing:__\n",
    "<font size=3>\n",
    "    \n",
    "1.1 Import data;\\\n",
    "1.2 Data visualization;\\\n",
    "1.3 Feature engineering;\\\n",
    "1.4 Data shuffling;\\\n",
    "1.5 Train, validation, and test tensor divition.\n",
    "\n",
    "Our first task will classify _normal_ and _abnormal_ orthopedic diagnoses from biomechanical features. Our data can be downloaded from the [Kaggle datasets](https://www.kaggle.com/datasets/uciml/biomechanical-features-of-orthopedic-patients?resource=download)."
   ]
  },
  {
   "cell_type": "code",
   "execution_count": 2,
   "id": "dc798d16-acd6-4eb6-a9f9-2bfd01d7b180",
   "metadata": {},
   "outputs": [
    {
     "data": {
      "text/html": [
       "<div>\n",
       "<style scoped>\n",
       "    .dataframe tbody tr th:only-of-type {\n",
       "        vertical-align: middle;\n",
       "    }\n",
       "\n",
       "    .dataframe tbody tr th {\n",
       "        vertical-align: top;\n",
       "    }\n",
       "\n",
       "    .dataframe thead th {\n",
       "        text-align: right;\n",
       "    }\n",
       "</style>\n",
       "<table border=\"1\" class=\"dataframe\">\n",
       "  <thead>\n",
       "    <tr style=\"text-align: right;\">\n",
       "      <th></th>\n",
       "      <th>pelvic_incidence</th>\n",
       "      <th>pelvic_tilt numeric</th>\n",
       "      <th>lumbar_lordosis_angle</th>\n",
       "      <th>sacral_slope</th>\n",
       "      <th>pelvic_radius</th>\n",
       "      <th>degree_spondylolisthesis</th>\n",
       "      <th>class</th>\n",
       "    </tr>\n",
       "  </thead>\n",
       "  <tbody>\n",
       "    <tr>\n",
       "      <th>0</th>\n",
       "      <td>63.027817</td>\n",
       "      <td>22.552586</td>\n",
       "      <td>39.609117</td>\n",
       "      <td>40.475232</td>\n",
       "      <td>98.672917</td>\n",
       "      <td>-0.254400</td>\n",
       "      <td>Abnormal</td>\n",
       "    </tr>\n",
       "    <tr>\n",
       "      <th>1</th>\n",
       "      <td>39.056951</td>\n",
       "      <td>10.060991</td>\n",
       "      <td>25.015378</td>\n",
       "      <td>28.995960</td>\n",
       "      <td>114.405425</td>\n",
       "      <td>4.564259</td>\n",
       "      <td>Abnormal</td>\n",
       "    </tr>\n",
       "    <tr>\n",
       "      <th>2</th>\n",
       "      <td>68.832021</td>\n",
       "      <td>22.218482</td>\n",
       "      <td>50.092194</td>\n",
       "      <td>46.613539</td>\n",
       "      <td>105.985135</td>\n",
       "      <td>-3.530317</td>\n",
       "      <td>Abnormal</td>\n",
       "    </tr>\n",
       "    <tr>\n",
       "      <th>3</th>\n",
       "      <td>69.297008</td>\n",
       "      <td>24.652878</td>\n",
       "      <td>44.311238</td>\n",
       "      <td>44.644130</td>\n",
       "      <td>101.868495</td>\n",
       "      <td>11.211523</td>\n",
       "      <td>Abnormal</td>\n",
       "    </tr>\n",
       "    <tr>\n",
       "      <th>4</th>\n",
       "      <td>49.712859</td>\n",
       "      <td>9.652075</td>\n",
       "      <td>28.317406</td>\n",
       "      <td>40.060784</td>\n",
       "      <td>108.168725</td>\n",
       "      <td>7.918501</td>\n",
       "      <td>Abnormal</td>\n",
       "    </tr>\n",
       "  </tbody>\n",
       "</table>\n",
       "</div>"
      ],
      "text/plain": [
       "   pelvic_incidence  pelvic_tilt numeric  lumbar_lordosis_angle  sacral_slope  \\\n",
       "0         63.027817            22.552586              39.609117     40.475232   \n",
       "1         39.056951            10.060991              25.015378     28.995960   \n",
       "2         68.832021            22.218482              50.092194     46.613539   \n",
       "3         69.297008            24.652878              44.311238     44.644130   \n",
       "4         49.712859             9.652075              28.317406     40.060784   \n",
       "\n",
       "   pelvic_radius  degree_spondylolisthesis     class  \n",
       "0      98.672917                 -0.254400  Abnormal  \n",
       "1     114.405425                  4.564259  Abnormal  \n",
       "2     105.985135                 -3.530317  Abnormal  \n",
       "3     101.868495                 11.211523  Abnormal  \n",
       "4     108.168725                  7.918501  Abnormal  "
      ]
     },
     "execution_count": 2,
     "metadata": {},
     "output_type": "execute_result"
    }
   ],
   "source": [
    "df = pd.read_csv(\"../dataset/column_2C_weka.csv\")\n",
    "\n",
    "df.head()"
   ]
  },
  {
   "cell_type": "code",
   "execution_count": 3,
   "id": "7981599f-b0ba-4e3a-8355-24a25c173bbb",
   "metadata": {},
   "outputs": [
    {
     "data": {
      "text/plain": [
       "(100, 210)"
      ]
     },
     "execution_count": 3,
     "metadata": {},
     "output_type": "execute_result"
    }
   ],
   "source": [
    "# how many classes do we have?\n",
    "\n",
    "n_normal = len(df[df['class'] == 'Normal'])\n",
    "n_abnormal = len(df[df['class'] == 'Abnormal'])\n",
    "\n",
    "n_normal, n_abnormal"
   ]
  },
  {
   "cell_type": "code",
   "execution_count": 4,
   "id": "0cd07cbd-a2dc-4059-b660-084e0076760d",
   "metadata": {},
   "outputs": [
    {
     "data": {
      "text/html": [
       "<div>\n",
       "<style scoped>\n",
       "    .dataframe tbody tr th:only-of-type {\n",
       "        vertical-align: middle;\n",
       "    }\n",
       "\n",
       "    .dataframe tbody tr th {\n",
       "        vertical-align: top;\n",
       "    }\n",
       "\n",
       "    .dataframe thead th {\n",
       "        text-align: right;\n",
       "    }\n",
       "</style>\n",
       "<table border=\"1\" class=\"dataframe\">\n",
       "  <thead>\n",
       "    <tr style=\"text-align: right;\">\n",
       "      <th></th>\n",
       "      <th>pelvic_incidence</th>\n",
       "      <th>pelvic_tilt numeric</th>\n",
       "      <th>lumbar_lordosis_angle</th>\n",
       "      <th>sacral_slope</th>\n",
       "      <th>pelvic_radius</th>\n",
       "      <th>degree_spondylolisthesis</th>\n",
       "      <th>class</th>\n",
       "    </tr>\n",
       "  </thead>\n",
       "  <tbody>\n",
       "    <tr>\n",
       "      <th>137</th>\n",
       "      <td>83.396606</td>\n",
       "      <td>34.310989</td>\n",
       "      <td>78.423293</td>\n",
       "      <td>49.085617</td>\n",
       "      <td>110.466516</td>\n",
       "      <td>49.672096</td>\n",
       "      <td>Abnormal</td>\n",
       "    </tr>\n",
       "    <tr>\n",
       "      <th>244</th>\n",
       "      <td>63.026300</td>\n",
       "      <td>27.336240</td>\n",
       "      <td>51.605017</td>\n",
       "      <td>35.690060</td>\n",
       "      <td>114.506608</td>\n",
       "      <td>7.439870</td>\n",
       "      <td>Normal</td>\n",
       "    </tr>\n",
       "    <tr>\n",
       "      <th>258</th>\n",
       "      <td>40.349296</td>\n",
       "      <td>10.194748</td>\n",
       "      <td>37.967747</td>\n",
       "      <td>30.154548</td>\n",
       "      <td>128.009927</td>\n",
       "      <td>0.458901</td>\n",
       "      <td>Normal</td>\n",
       "    </tr>\n",
       "    <tr>\n",
       "      <th>139</th>\n",
       "      <td>85.095503</td>\n",
       "      <td>21.069897</td>\n",
       "      <td>91.734792</td>\n",
       "      <td>64.025606</td>\n",
       "      <td>109.062312</td>\n",
       "      <td>38.032831</td>\n",
       "      <td>Abnormal</td>\n",
       "    </tr>\n",
       "    <tr>\n",
       "      <th>188</th>\n",
       "      <td>85.680950</td>\n",
       "      <td>38.650035</td>\n",
       "      <td>82.680977</td>\n",
       "      <td>47.030914</td>\n",
       "      <td>120.840707</td>\n",
       "      <td>61.959034</td>\n",
       "      <td>Abnormal</td>\n",
       "    </tr>\n",
       "  </tbody>\n",
       "</table>\n",
       "</div>"
      ],
      "text/plain": [
       "     pelvic_incidence  pelvic_tilt numeric  lumbar_lordosis_angle  \\\n",
       "137         83.396606            34.310989              78.423293   \n",
       "244         63.026300            27.336240              51.605017   \n",
       "258         40.349296            10.194748              37.967747   \n",
       "139         85.095503            21.069897              91.734792   \n",
       "188         85.680950            38.650035              82.680977   \n",
       "\n",
       "     sacral_slope  pelvic_radius  degree_spondylolisthesis     class  \n",
       "137     49.085617     110.466516                 49.672096  Abnormal  \n",
       "244     35.690060     114.506608                  7.439870    Normal  \n",
       "258     30.154548     128.009927                  0.458901    Normal  \n",
       "139     64.025606     109.062312                 38.032831  Abnormal  \n",
       "188     47.030914     120.840707                 61.959034  Abnormal  "
      ]
     },
     "execution_count": 4,
     "metadata": {},
     "output_type": "execute_result"
    }
   ],
   "source": [
    "# data shuffling:\n",
    "i = np.random.permutation(len(df))\n",
    "\n",
    "df = df.iloc[i, :]\n",
    "\n",
    "df.head()"
   ]
  },
  {
   "cell_type": "code",
   "execution_count": 5,
   "id": "60dd85fd-edf4-4ea1-94c8-1758c4791edf",
   "metadata": {},
   "outputs": [
    {
     "data": {
      "text/html": [
       "<div>\n",
       "<style scoped>\n",
       "    .dataframe tbody tr th:only-of-type {\n",
       "        vertical-align: middle;\n",
       "    }\n",
       "\n",
       "    .dataframe tbody tr th {\n",
       "        vertical-align: top;\n",
       "    }\n",
       "\n",
       "    .dataframe thead th {\n",
       "        text-align: right;\n",
       "    }\n",
       "</style>\n",
       "<table border=\"1\" class=\"dataframe\">\n",
       "  <thead>\n",
       "    <tr style=\"text-align: right;\">\n",
       "      <th></th>\n",
       "      <th>pelvic_incidence</th>\n",
       "      <th>pelvic_tilt numeric</th>\n",
       "      <th>lumbar_lordosis_angle</th>\n",
       "      <th>sacral_slope</th>\n",
       "      <th>pelvic_radius</th>\n",
       "      <th>degree_spondylolisthesis</th>\n",
       "    </tr>\n",
       "  </thead>\n",
       "  <tbody>\n",
       "    <tr>\n",
       "      <th>137</th>\n",
       "      <td>83.396606</td>\n",
       "      <td>34.310989</td>\n",
       "      <td>78.423293</td>\n",
       "      <td>49.085617</td>\n",
       "      <td>110.466516</td>\n",
       "      <td>49.672096</td>\n",
       "    </tr>\n",
       "    <tr>\n",
       "      <th>244</th>\n",
       "      <td>63.026300</td>\n",
       "      <td>27.336240</td>\n",
       "      <td>51.605017</td>\n",
       "      <td>35.690060</td>\n",
       "      <td>114.506608</td>\n",
       "      <td>7.439870</td>\n",
       "    </tr>\n",
       "    <tr>\n",
       "      <th>258</th>\n",
       "      <td>40.349296</td>\n",
       "      <td>10.194748</td>\n",
       "      <td>37.967747</td>\n",
       "      <td>30.154548</td>\n",
       "      <td>128.009927</td>\n",
       "      <td>0.458901</td>\n",
       "    </tr>\n",
       "    <tr>\n",
       "      <th>139</th>\n",
       "      <td>85.095503</td>\n",
       "      <td>21.069897</td>\n",
       "      <td>91.734792</td>\n",
       "      <td>64.025606</td>\n",
       "      <td>109.062312</td>\n",
       "      <td>38.032831</td>\n",
       "    </tr>\n",
       "    <tr>\n",
       "      <th>188</th>\n",
       "      <td>85.680950</td>\n",
       "      <td>38.650035</td>\n",
       "      <td>82.680977</td>\n",
       "      <td>47.030914</td>\n",
       "      <td>120.840707</td>\n",
       "      <td>61.959034</td>\n",
       "    </tr>\n",
       "  </tbody>\n",
       "</table>\n",
       "</div>"
      ],
      "text/plain": [
       "     pelvic_incidence  pelvic_tilt numeric  lumbar_lordosis_angle  \\\n",
       "137         83.396606            34.310989              78.423293   \n",
       "244         63.026300            27.336240              51.605017   \n",
       "258         40.349296            10.194748              37.967747   \n",
       "139         85.095503            21.069897              91.734792   \n",
       "188         85.680950            38.650035              82.680977   \n",
       "\n",
       "     sacral_slope  pelvic_radius  degree_spondylolisthesis  \n",
       "137     49.085617     110.466516                 49.672096  \n",
       "244     35.690060     114.506608                  7.439870  \n",
       "258     30.154548     128.009927                  0.458901  \n",
       "139     64.025606     109.062312                 38.032831  \n",
       "188     47.030914     120.840707                 61.959034  "
      ]
     },
     "execution_count": 5,
     "metadata": {},
     "output_type": "execute_result"
    }
   ],
   "source": [
    "# features data:\n",
    "df.iloc[:, 0:6].head()"
   ]
  },
  {
   "cell_type": "code",
   "execution_count": 6,
   "id": "5bd56b76-d277-4956-bbb3-3d0da1e4f2ef",
   "metadata": {},
   "outputs": [
    {
     "data": {
      "text/plain": [
       "array([[ 83.39660609,  34.31098931,  78.42329287,  49.08561678,\n",
       "        110.4665164 ,  49.67209559],\n",
       "       [ 63.02630005,  27.33624023,  51.60501665,  35.69005983,\n",
       "        114.5066078 ,   7.4398698 ],\n",
       "       [ 40.34929637,  10.19474845,  37.96774659,  30.15454792,\n",
       "        128.0099272 ,   0.45890137],\n",
       "       ...,\n",
       "       [ 81.11260488,  20.69044356,  60.68700588,  60.42216132,\n",
       "         94.01878339,  40.51098228],\n",
       "       [ 83.87994081,  23.07742686,  87.14151223,  60.80251395,\n",
       "        124.6460723 ,  80.55560527],\n",
       "       [ 70.67689818,  21.70440224,  59.18116082,  48.97249594,\n",
       "        103.0083545 ,  27.8101478 ]])"
      ]
     },
     "execution_count": 6,
     "metadata": {},
     "output_type": "execute_result"
    }
   ],
   "source": [
    "x = df.iloc[:, 0:6].to_numpy()\n",
    "x"
   ]
  },
  {
   "cell_type": "code",
   "execution_count": 7,
   "id": "87ef5665-4a91-42fb-86bf-4c9f026e086f",
   "metadata": {},
   "outputs": [
    {
     "data": {
      "text/html": [
       "<div>\n",
       "<style scoped>\n",
       "    .dataframe tbody tr th:only-of-type {\n",
       "        vertical-align: middle;\n",
       "    }\n",
       "\n",
       "    .dataframe tbody tr th {\n",
       "        vertical-align: top;\n",
       "    }\n",
       "\n",
       "    .dataframe thead th {\n",
       "        text-align: right;\n",
       "    }\n",
       "</style>\n",
       "<table border=\"1\" class=\"dataframe\">\n",
       "  <thead>\n",
       "    <tr style=\"text-align: right;\">\n",
       "      <th></th>\n",
       "      <th>class</th>\n",
       "    </tr>\n",
       "  </thead>\n",
       "  <tbody>\n",
       "    <tr>\n",
       "      <th>137</th>\n",
       "      <td>Abnormal</td>\n",
       "    </tr>\n",
       "    <tr>\n",
       "      <th>244</th>\n",
       "      <td>Normal</td>\n",
       "    </tr>\n",
       "    <tr>\n",
       "      <th>258</th>\n",
       "      <td>Normal</td>\n",
       "    </tr>\n",
       "    <tr>\n",
       "      <th>139</th>\n",
       "      <td>Abnormal</td>\n",
       "    </tr>\n",
       "    <tr>\n",
       "      <th>188</th>\n",
       "      <td>Abnormal</td>\n",
       "    </tr>\n",
       "  </tbody>\n",
       "</table>\n",
       "</div>"
      ],
      "text/plain": [
       "        class\n",
       "137  Abnormal\n",
       "244    Normal\n",
       "258    Normal\n",
       "139  Abnormal\n",
       "188  Abnormal"
      ]
     },
     "execution_count": 7,
     "metadata": {},
     "output_type": "execute_result"
    }
   ],
   "source": [
    "# target data:\n",
    "df.iloc[:, -1:].head()"
   ]
  },
  {
   "cell_type": "code",
   "execution_count": 8,
   "id": "aaebd8d9-2ddc-4f55-a941-e2ab08bfac72",
   "metadata": {},
   "outputs": [
    {
     "data": {
      "text/plain": [
       "array([1., 0., 0., 1., 1., 1., 0., 0., 1., 0., 1., 0., 1., 1., 1., 1., 1.,\n",
       "       1., 1., 1., 1., 0., 0., 1., 0., 1., 1., 0., 0., 0., 1., 1., 1., 1.,\n",
       "       0., 0., 1., 1., 1., 0., 1., 1., 1., 0., 1., 0., 1., 1., 0., 0., 1.,\n",
       "       1., 1., 1., 1., 0., 0., 0., 1., 0., 1., 1., 1., 0., 1., 1., 1., 1.,\n",
       "       1., 1., 0., 0., 1., 1., 1., 1., 1., 1., 0., 1., 1., 0., 1., 1., 1.,\n",
       "       1., 1., 0., 0., 0., 1., 1., 1., 1., 1., 0., 1., 1., 1., 1., 0., 1.,\n",
       "       0., 1., 1., 1., 1., 1., 1., 1., 0., 1., 1., 1., 1., 0., 1., 1., 1.,\n",
       "       0., 1., 0., 1., 1., 1., 1., 1., 0., 1., 1., 1., 0., 1., 1., 1., 1.,\n",
       "       1., 0., 0., 1., 1., 0., 1., 1., 1., 1., 1., 1., 1., 0., 1., 1., 0.,\n",
       "       0., 1., 1., 0., 0., 1., 1., 0., 1., 1., 0., 0., 1., 1., 1., 0., 0.,\n",
       "       1., 0., 1., 1., 1., 0., 1., 0., 1., 0., 1., 1., 1., 1., 1., 1., 1.,\n",
       "       0., 0., 1., 1., 0., 1., 1., 1., 0., 1., 1., 0., 0., 1., 0., 0., 1.,\n",
       "       0., 1., 1., 0., 0., 1., 1., 1., 1., 0., 1., 0., 1., 0., 1., 0., 1.,\n",
       "       1., 1., 0., 1., 1., 0., 0., 1., 0., 1., 1., 1., 0., 1., 1., 1., 0.,\n",
       "       1., 1., 0., 0., 1., 1., 1., 0., 1., 1., 1., 1., 1., 1., 1., 0., 1.,\n",
       "       0., 1., 0., 1., 0., 1., 0., 1., 1., 1., 1., 0., 0., 1., 0., 0., 1.,\n",
       "       1., 0., 1., 1., 0., 1., 1., 1., 0., 0., 0., 1., 1., 1., 1., 0., 1.,\n",
       "       1., 1., 1., 0., 0., 1., 0., 1., 1., 1., 1., 1., 1., 0., 1., 1., 1.,\n",
       "       1., 1., 1., 1.])"
      ]
     },
     "execution_count": 8,
     "metadata": {},
     "output_type": "execute_result"
    }
   ],
   "source": [
    "def label_fn(x):\n",
    "    if x == 'Abnormal': return 1.0\n",
    "    else: return 0.0\n",
    "\n",
    "y = df.iloc[:, -1].apply(label_fn).to_numpy()\n",
    "y"
   ]
  },
  {
   "cell_type": "code",
   "execution_count": 9,
   "id": "04089b08-44b2-4320-94ea-2ad69ff58056",
   "metadata": {},
   "outputs": [
    {
     "data": {
      "text/plain": [
       "((310, 6), (310,))"
      ]
     },
     "execution_count": 9,
     "metadata": {},
     "output_type": "execute_result"
    }
   ],
   "source": [
    "x.shape, y.shape"
   ]
  },
  {
   "cell_type": "code",
   "execution_count": 10,
   "id": "9ad8e840-a3db-4656-9043-8fb683873430",
   "metadata": {},
   "outputs": [
    {
     "name": "stdout",
     "output_type": "stream",
     "text": [
      "y: (310,)\n",
      "y: (310, 1)\n"
     ]
    }
   ],
   "source": [
    "print(\"y:\", y.shape)\n",
    "\n",
    "# since x array has 2 dimensions, we'll expand y dimensions:\n",
    "y = np.expand_dims(y, axis=1)\n",
    "\n",
    "print(\"y:\", y.shape)"
   ]
  },
  {
   "cell_type": "code",
   "execution_count": 11,
   "id": "89d32961-ac98-432c-a44f-cdbf77b56617",
   "metadata": {},
   "outputs": [
    {
     "name": "stdout",
     "output_type": "stream",
     "text": [
      "x before norm: max = 418.54, min = -11.06\n",
      "x after norm: max = 1.00, min = -0.03\n"
     ]
    }
   ],
   "source": [
    "# normalizing the data:\n",
    "print(f\"x before norm: max = {x.max():.2f}, min = {x.min():.2f}\")\n",
    "\n",
    "x /= abs(x).max() # normalization: x = x/max(abs(x))\n",
    "\n",
    "print(f\"x after norm: max = {x.max():.2f}, min = {x.min():.2f}\")"
   ]
  },
  {
   "cell_type": "code",
   "execution_count": 12,
   "id": "4d5ed9d2-e240-4b7a-a2ce-cac40935becf",
   "metadata": {},
   "outputs": [
    {
     "name": "stdout",
     "output_type": "stream",
     "text": [
      "N-samples = 310, N-train = 217, N-val = 62, N-test = 31\n",
      "True\n"
     ]
    }
   ],
   "source": [
    "# splitting the dataset into train, validation and test:\n",
    "N_samples, N_features = x.shape\n",
    "\n",
    "N_train = int(0.70*N_samples) # 80%\n",
    "\n",
    "N_val = int(0.2*N_samples) # 20%\n",
    "\n",
    "N_test = N_samples - (N_train + N_val) # 10%\n",
    "\n",
    "print(f\"N-samples = {N_samples}, N-train = {N_train}, N-val = {N_val}, N-test = {N_test}\")\n",
    "\n",
    "print(N_samples == N_train + N_val + N_test)"
   ]
  },
  {
   "cell_type": "code",
   "execution_count": 13,
   "id": "61c1ea25-87de-45d3-9ddf-0f52089e2d6d",
   "metadata": {},
   "outputs": [
    {
     "name": "stdout",
     "output_type": "stream",
     "text": [
      "x-train:(217, 6), y-train:(217, 1)\n",
      "x-val:(62, 6), y-val:(62, 1)\n",
      "x-test:(31, 6), y-test:(31, 1)\n"
     ]
    }
   ],
   "source": [
    "x_train = x[:N_train]\n",
    "y_train = y[:N_train]\n",
    "\n",
    "x_val = x[N_train:N_train+N_val]\n",
    "y_val = y[N_train:N_train+N_val]\n",
    "\n",
    "x_test = x[N_train+N_val:]\n",
    "y_test = y[N_train+N_val:]\n",
    "\n",
    "print(f\"x-train:{x_train.shape}, y-train:{y_train.shape}\")\n",
    "print(f\"x-val:{x_val.shape}, y-val:{y_val.shape}\")\n",
    "print(f\"x-test:{x_test.shape}, y-test:{y_test.shape}\")"
   ]
  },
  {
   "cell_type": "code",
   "execution_count": 14,
   "id": "0e6ee328-7fad-4607-b0db-af745fb7e10d",
   "metadata": {},
   "outputs": [],
   "source": [
    "# we can delete unnecessary tansors and dataframe:\n",
    "\n",
    "del df, x, y"
   ]
  },
  {
   "cell_type": "markdown",
   "id": "1297d543-bb47-455f-9cc3-0e129221f760",
   "metadata": {},
   "source": [
    "### __2. Neural network modeling:__\n",
    "<font size=3>\n",
    "    \n",
    "2.1 Define initial layer's shape;\\\n",
    "2.2 Define output layer's shape and its [activation function](https://keras.io/api/layers/activations/);\\\n",
    "2.3 Define hidden layers.\n",
    "\n",
    "[Checkout Keras API](https://keras.io/guides/functional_api/)."
   ]
  },
  {
   "cell_type": "code",
   "execution_count": 15,
   "id": "374e4278-f29c-4b98-8a72-27e222c778e2",
   "metadata": {},
   "outputs": [
    {
     "name": "stderr",
     "output_type": "stream",
     "text": [
      "2024-11-14 12:05:45.365977: E external/local_xla/xla/stream_executor/cuda/cuda_driver.cc:282] failed call to cuInit: CUDA_ERROR_NO_DEVICE: no CUDA-capable device is detected\n"
     ]
    },
    {
     "data": {
      "text/html": [
       "<pre style=\"white-space:pre;overflow-x:auto;line-height:normal;font-family:Menlo,'DejaVu Sans Mono',consolas,'Courier New',monospace\"><span style=\"font-weight: bold\">Model: \"functional\"</span>\n",
       "</pre>\n"
      ],
      "text/plain": [
       "\u001b[1mModel: \"functional\"\u001b[0m\n"
      ]
     },
     "metadata": {},
     "output_type": "display_data"
    },
    {
     "data": {
      "text/html": [
       "<pre style=\"white-space:pre;overflow-x:auto;line-height:normal;font-family:Menlo,'DejaVu Sans Mono',consolas,'Courier New',monospace\">┏━━━━━━━━━━━━━━━━━━━━━━━━━━━━━━━━━┳━━━━━━━━━━━━━━━━━━━━━━━━┳━━━━━━━━━━━━━━━┓\n",
       "┃<span style=\"font-weight: bold\"> Layer (type)                    </span>┃<span style=\"font-weight: bold\"> Output Shape           </span>┃<span style=\"font-weight: bold\">       Param # </span>┃\n",
       "┡━━━━━━━━━━━━━━━━━━━━━━━━━━━━━━━━━╇━━━━━━━━━━━━━━━━━━━━━━━━╇━━━━━━━━━━━━━━━┩\n",
       "│ input_layer (<span style=\"color: #0087ff; text-decoration-color: #0087ff\">InputLayer</span>)        │ (<span style=\"color: #00d7ff; text-decoration-color: #00d7ff\">None</span>, <span style=\"color: #00af00; text-decoration-color: #00af00\">6</span>)              │             <span style=\"color: #00af00; text-decoration-color: #00af00\">0</span> │\n",
       "├─────────────────────────────────┼────────────────────────┼───────────────┤\n",
       "│ dense (<span style=\"color: #0087ff; text-decoration-color: #0087ff\">Dense</span>)                   │ (<span style=\"color: #00d7ff; text-decoration-color: #00d7ff\">None</span>, <span style=\"color: #00af00; text-decoration-color: #00af00\">50</span>)             │           <span style=\"color: #00af00; text-decoration-color: #00af00\">350</span> │\n",
       "├─────────────────────────────────┼────────────────────────┼───────────────┤\n",
       "│ dense_1 (<span style=\"color: #0087ff; text-decoration-color: #0087ff\">Dense</span>)                 │ (<span style=\"color: #00d7ff; text-decoration-color: #00d7ff\">None</span>, <span style=\"color: #00af00; text-decoration-color: #00af00\">200</span>)            │        <span style=\"color: #00af00; text-decoration-color: #00af00\">10,200</span> │\n",
       "├─────────────────────────────────┼────────────────────────┼───────────────┤\n",
       "│ dropout (<span style=\"color: #0087ff; text-decoration-color: #0087ff\">Dropout</span>)               │ (<span style=\"color: #00d7ff; text-decoration-color: #00d7ff\">None</span>, <span style=\"color: #00af00; text-decoration-color: #00af00\">200</span>)            │             <span style=\"color: #00af00; text-decoration-color: #00af00\">0</span> │\n",
       "├─────────────────────────────────┼────────────────────────┼───────────────┤\n",
       "│ dense_2 (<span style=\"color: #0087ff; text-decoration-color: #0087ff\">Dense</span>)                 │ (<span style=\"color: #00d7ff; text-decoration-color: #00d7ff\">None</span>, <span style=\"color: #00af00; text-decoration-color: #00af00\">20</span>)             │         <span style=\"color: #00af00; text-decoration-color: #00af00\">4,020</span> │\n",
       "├─────────────────────────────────┼────────────────────────┼───────────────┤\n",
       "│ dense_3 (<span style=\"color: #0087ff; text-decoration-color: #0087ff\">Dense</span>)                 │ (<span style=\"color: #00d7ff; text-decoration-color: #00d7ff\">None</span>, <span style=\"color: #00af00; text-decoration-color: #00af00\">1</span>)              │            <span style=\"color: #00af00; text-decoration-color: #00af00\">21</span> │\n",
       "└─────────────────────────────────┴────────────────────────┴───────────────┘\n",
       "</pre>\n"
      ],
      "text/plain": [
       "┏━━━━━━━━━━━━━━━━━━━━━━━━━━━━━━━━━┳━━━━━━━━━━━━━━━━━━━━━━━━┳━━━━━━━━━━━━━━━┓\n",
       "┃\u001b[1m \u001b[0m\u001b[1mLayer (type)                   \u001b[0m\u001b[1m \u001b[0m┃\u001b[1m \u001b[0m\u001b[1mOutput Shape          \u001b[0m\u001b[1m \u001b[0m┃\u001b[1m \u001b[0m\u001b[1m      Param #\u001b[0m\u001b[1m \u001b[0m┃\n",
       "┡━━━━━━━━━━━━━━━━━━━━━━━━━━━━━━━━━╇━━━━━━━━━━━━━━━━━━━━━━━━╇━━━━━━━━━━━━━━━┩\n",
       "│ input_layer (\u001b[38;5;33mInputLayer\u001b[0m)        │ (\u001b[38;5;45mNone\u001b[0m, \u001b[38;5;34m6\u001b[0m)              │             \u001b[38;5;34m0\u001b[0m │\n",
       "├─────────────────────────────────┼────────────────────────┼───────────────┤\n",
       "│ dense (\u001b[38;5;33mDense\u001b[0m)                   │ (\u001b[38;5;45mNone\u001b[0m, \u001b[38;5;34m50\u001b[0m)             │           \u001b[38;5;34m350\u001b[0m │\n",
       "├─────────────────────────────────┼────────────────────────┼───────────────┤\n",
       "│ dense_1 (\u001b[38;5;33mDense\u001b[0m)                 │ (\u001b[38;5;45mNone\u001b[0m, \u001b[38;5;34m200\u001b[0m)            │        \u001b[38;5;34m10,200\u001b[0m │\n",
       "├─────────────────────────────────┼────────────────────────┼───────────────┤\n",
       "│ dropout (\u001b[38;5;33mDropout\u001b[0m)               │ (\u001b[38;5;45mNone\u001b[0m, \u001b[38;5;34m200\u001b[0m)            │             \u001b[38;5;34m0\u001b[0m │\n",
       "├─────────────────────────────────┼────────────────────────┼───────────────┤\n",
       "│ dense_2 (\u001b[38;5;33mDense\u001b[0m)                 │ (\u001b[38;5;45mNone\u001b[0m, \u001b[38;5;34m20\u001b[0m)             │         \u001b[38;5;34m4,020\u001b[0m │\n",
       "├─────────────────────────────────┼────────────────────────┼───────────────┤\n",
       "│ dense_3 (\u001b[38;5;33mDense\u001b[0m)                 │ (\u001b[38;5;45mNone\u001b[0m, \u001b[38;5;34m1\u001b[0m)              │            \u001b[38;5;34m21\u001b[0m │\n",
       "└─────────────────────────────────┴────────────────────────┴───────────────┘\n"
      ]
     },
     "metadata": {},
     "output_type": "display_data"
    },
    {
     "data": {
      "text/html": [
       "<pre style=\"white-space:pre;overflow-x:auto;line-height:normal;font-family:Menlo,'DejaVu Sans Mono',consolas,'Courier New',monospace\"><span style=\"font-weight: bold\"> Total params: </span><span style=\"color: #00af00; text-decoration-color: #00af00\">14,591</span> (57.00 KB)\n",
       "</pre>\n"
      ],
      "text/plain": [
       "\u001b[1m Total params: \u001b[0m\u001b[38;5;34m14,591\u001b[0m (57.00 KB)\n"
      ]
     },
     "metadata": {},
     "output_type": "display_data"
    },
    {
     "data": {
      "text/html": [
       "<pre style=\"white-space:pre;overflow-x:auto;line-height:normal;font-family:Menlo,'DejaVu Sans Mono',consolas,'Courier New',monospace\"><span style=\"font-weight: bold\"> Trainable params: </span><span style=\"color: #00af00; text-decoration-color: #00af00\">14,591</span> (57.00 KB)\n",
       "</pre>\n"
      ],
      "text/plain": [
       "\u001b[1m Trainable params: \u001b[0m\u001b[38;5;34m14,591\u001b[0m (57.00 KB)\n"
      ]
     },
     "metadata": {},
     "output_type": "display_data"
    },
    {
     "data": {
      "text/html": [
       "<pre style=\"white-space:pre;overflow-x:auto;line-height:normal;font-family:Menlo,'DejaVu Sans Mono',consolas,'Courier New',monospace\"><span style=\"font-weight: bold\"> Non-trainable params: </span><span style=\"color: #00af00; text-decoration-color: #00af00\">0</span> (0.00 B)\n",
       "</pre>\n"
      ],
      "text/plain": [
       "\u001b[1m Non-trainable params: \u001b[0m\u001b[38;5;34m0\u001b[0m (0.00 B)\n"
      ]
     },
     "metadata": {},
     "output_type": "display_data"
    }
   ],
   "source": [
    "In = keras.Input(shape=(x_train.shape[1],))\n",
    "\n",
    "x = keras.layers.Dense(50, activation='sigmoid')(In)\n",
    "\n",
    "x = keras.layers.Dense(200, activation='sigmoid')(x)\n",
    "\n",
    "x = keras.layers.Dropout(0.5)(x)\n",
    "\n",
    "x = keras.layers.Dense(20, activation='sigmoid')(x)\n",
    "\n",
    "Out = keras.layers.Dense(1, activation='sigmoid')(x)\n",
    "\n",
    "model = keras.Model(inputs=In, outputs=Out)\n",
    "\n",
    "model.summary()"
   ]
  },
  {
   "cell_type": "markdown",
   "id": "626664fc-593b-4539-ac60-4903c5734b58",
   "metadata": {},
   "source": [
    "### __3. Model compilation:__\n",
    "<font size=3>\n",
    "\n",
    "3.1 Define [optimizer](https://keras.io/api/optimizers/);\\\n",
    "3.2 Define [loss function](https://keras.io/api/losses/);\\\n",
    "3.3 Define [validation metric](https://keras.io/api/metrics/).\n"
   ]
  },
  {
   "cell_type": "code",
   "execution_count": 16,
   "id": "386ed652-4f95-4e71-a75e-e501c3197512",
   "metadata": {},
   "outputs": [],
   "source": [
    "model.compile(optimizer='SGD', loss=\"mse\", metrics=['acc'])"
   ]
  },
  {
   "cell_type": "markdown",
   "id": "beda4521-0d6c-42fe-995f-dd52c4ae9bc1",
   "metadata": {},
   "source": [
    "### __4. Train and validation__\n",
    "<font size=3>\n",
    "    \n",
    "Here, using the training data, the optimizer updates the values of the model's inner parameters (_i.e._, weights, biases, etc.) over the epochs while minimizing/maximizing the loss function. Meanwhile, the model's performance is measured for each epoch using the validation data. At this workflow stage, we model the neural network architecture to avoid [overfitting and underfitting](https://www.geeksforgeeks.org/underfitting-and-overfitting-in-machine-learning/).\n",
    "\n",
    "__Underfitting__ means a poor NN fitting, _i.e._, the model does not learn well. On the other hand, __overfitting__ occurs when the model fits the training data very well but makes poor predictions with validation data.\n",
    "\n",
    "__To avoid underfitting__, we need to make the NN more robust - with more layers and neurons - to increase the NN's depth.\n",
    "\n",
    "__To avoid overfitting__, we have two basic options: __i)__ decrease the number of neurons (or/and layers) - as an analogy, we are decreasing the degree of a polynomial function (check the [figure](https://www.geeksforgeeks.org/underfitting-and-overfitting-in-machine-learning/) again); __ii)__ we can apply a [dropout layer](https://keras.io/api/layers/regularization_layers/dropout/) after the layer with the largest number of neurons.\n",
    "\n",
    "What is the dropout layer? Dropout _\"closes\"_ the activation of neurons from the previous layer at random by setting them to zero! When training becomes rigid, we create a type of _\"neuroplasticity\"_ in the network to form more flexible connections. Check the [paper](https://paperswithcode.com/method/dropout)'s motivation!\n"
   ]
  },
  {
   "cell_type": "raw",
   "id": "52cf656f-ad02-4f75-99f7-591e6b5aafe1",
   "metadata": {
    "scrolled": true
   },
   "source": [
    "report = model.fit(x=x_train, y=y_train, validation_data=[x_val, y_val], epochs=50)"
   ]
  },
  {
   "cell_type": "raw",
   "id": "21e63123-4b42-4d76-b648-5d1480ca92db",
   "metadata": {
    "scrolled": true
   },
   "source": [
    "report.history"
   ]
  },
  {
   "cell_type": "raw",
   "id": "c5f7eed7-0c54-4e66-945a-828ae4f0ec8e",
   "metadata": {},
   "source": [
    "loss = report.history['loss']\n",
    "val_loss = report.history['val_loss']\n",
    "\n",
    "acc = report.history['acc']\n",
    "val_acc = report.history['val_acc']\n",
    "\n",
    "epochs = np.linspace(1, len(loss), len(loss))\n",
    "\n",
    "fig, ax = plt.subplots(1, 2, figsize=(12,4))\n",
    "\n",
    "ax[0].plot(epochs, loss, label='train')\n",
    "ax[0].plot(epochs, val_loss, label='val')\n",
    "ax[0].set_ylabel(\"MSE\")\n",
    "\n",
    "ax[1].plot(epochs, acc, label='train')\n",
    "ax[1].plot(epochs, val_acc, label='val')\n",
    "ax[1].set_ylabel(\"Accuracy\")\n",
    "\n",
    "for i in range(2):\n",
    "    ax[i].legend()\n",
    "    ax[i].set_xlabel('epochs')\n",
    "    ax[i].grid()\n",
    "    \n",
    "plt.show()"
   ]
  },
  {
   "cell_type": "markdown",
   "id": "1e8686e6-36cf-414e-8fed-238a7c2024ad",
   "metadata": {},
   "source": [
    "### __5. Final training__\n",
    "<font size=3>\n",
    "\n",
    "Once the modeling is completed, we concatenate train and validation data to fit again the model.\n",
    "\n",
    "__Note:__ use the same number of epochs from the previous step.\n",
    "    "
   ]
  },
  {
   "cell_type": "code",
   "execution_count": null,
   "id": "2a5fb05b-047b-4615-b6ba-5116c57b1d2b",
   "metadata": {
    "scrolled": true
   },
   "outputs": [],
   "source": [
    "report = model.fit(x=np.concatenate([x_train, x_val]), \n",
    "                   y=np.concatenate([y_train, y_val]), \n",
    "                   epochs=20)\n"
   ]
  },
  {
   "cell_type": "code",
   "execution_count": null,
   "id": "815b7733-fe22-4a7d-89ec-469f65b61af0",
   "metadata": {
    "scrolled": true
   },
   "outputs": [],
   "source": [
    "report.history"
   ]
  },
  {
   "cell_type": "code",
   "execution_count": 19,
   "id": "ca10e11f-b7c6-48e2-8839-7a031f12f7ca",
   "metadata": {},
   "outputs": [
    {
     "data": {
      "image/png": "[encoded data removed]",
      "text/plain": [
       "<Figure size 640x480 with 1 Axes>"
      ]
     },
     "metadata": {},
     "output_type": "display_data"
    }
   ],
   "source": [
    "loss = report.history['loss']\n",
    "epochs = np.linspace(1, len(loss), len(loss))\n",
    "\n",
    "plt.plot(epochs, loss)\n",
    "plt.ylabel('MSE')\n",
    "plt.xlabel('epochs')\n",
    "plt.grid()\n",
    "plt.show()"
   ]
  },
  {
   "cell_type": "markdown",
   "id": "c0e875dc-7d57-42fb-a03b-19948e2de183",
   "metadata": {},
   "source": [
    "### __6. Test evaluation__:\n",
    "\n",
    "    6.1 Make the evaluation using the test data;\n",
    "    6.1 Make some predictions to visualize the results;\n",
    "   "
   ]
  },
  {
   "cell_type": "code",
   "execution_count": 20,
   "id": "bfcc147f-9bdd-46ab-bff4-28fef5f02f86",
   "metadata": {},
   "outputs": [
    {
     "name": "stdout",
     "output_type": "stream",
     "text": [
      "\u001b[1m1/1\u001b[0m \u001b[32m━━━━━━━━━━━━━━━━━━━━\u001b[0m\u001b[37m\u001b[0m \u001b[1m0s\u001b[0m 95ms/step - acc: 0.7419 - loss: 0.1979\n"
     ]
    },
    {
     "data": {
      "text/plain": [
       "[0.19787435233592987, 0.7419354915618896]"
      ]
     },
     "execution_count": 20,
     "metadata": {},
     "output_type": "execute_result"
    }
   ],
   "source": [
    "model.evaluate(x=x_test, y=y_test)"
   ]
  },
  {
   "cell_type": "code",
   "execution_count": 21,
   "id": "e50214fc-90c2-4f14-9c00-374d46c2db84",
   "metadata": {},
   "outputs": [
    {
     "name": "stdout",
     "output_type": "stream",
     "text": [
      "\u001b[1m1/1\u001b[0m \u001b[32m━━━━━━━━━━━━━━━━━━━━\u001b[0m\u001b[37m\u001b[0m \u001b[1m0s\u001b[0m 43ms/step\n",
      "pred = 0.662, label = 1.0, y-test = 1.0\n",
      "pred = 0.662, label = 1.0, y-test = 0.0\n",
      "pred = 0.662, label = 1.0, y-test = 0.0\n",
      "pred = 0.662, label = 1.0, y-test = 0.0\n",
      "pred = 0.662, label = 1.0, y-test = 1.0\n",
      "pred = 0.662, label = 1.0, y-test = 1.0\n",
      "pred = 0.662, label = 1.0, y-test = 1.0\n",
      "pred = 0.662, label = 1.0, y-test = 1.0\n",
      "pred = 0.661, label = 1.0, y-test = 0.0\n",
      "pred = 0.662, label = 1.0, y-test = 1.0\n",
      "pred = 0.662, label = 1.0, y-test = 1.0\n",
      "pred = 0.662, label = 1.0, y-test = 1.0\n",
      "pred = 0.662, label = 1.0, y-test = 1.0\n",
      "pred = 0.662, label = 1.0, y-test = 0.0\n",
      "pred = 0.662, label = 1.0, y-test = 0.0\n",
      "pred = 0.662, label = 1.0, y-test = 1.0\n",
      "pred = 0.661, label = 1.0, y-test = 0.0\n",
      "pred = 0.662, label = 1.0, y-test = 1.0\n",
      "pred = 0.662, label = 1.0, y-test = 1.0\n",
      "pred = 0.662, label = 1.0, y-test = 1.0\n",
      "pred = 0.662, label = 1.0, y-test = 1.0\n",
      "pred = 0.662, label = 1.0, y-test = 1.0\n",
      "pred = 0.662, label = 1.0, y-test = 1.0\n",
      "pred = 0.662, label = 1.0, y-test = 0.0\n",
      "pred = 0.662, label = 1.0, y-test = 1.0\n",
      "pred = 0.662, label = 1.0, y-test = 1.0\n",
      "pred = 0.662, label = 1.0, y-test = 1.0\n",
      "pred = 0.661, label = 1.0, y-test = 1.0\n",
      "pred = 0.662, label = 1.0, y-test = 1.0\n",
      "pred = 0.662, label = 1.0, y-test = 1.0\n",
      "pred = 0.662, label = 1.0, y-test = 1.0\n"
     ]
    }
   ],
   "source": [
    "pred = model.predict(x_test)\n",
    "\n",
    "for p, y in zip(pred, y_test):\n",
    "    \n",
    "    label = 1.0 if p > 0.5 else 0.0\n",
    "\n",
    "    print(f\"pred = {p[0]:.3f}, label = {label}, y-test = {y[0]}\")\n",
    "        "
   ]
  },
  {
   "cell_type": "markdown",
   "id": "dd1006c9-50c7-4341-a265-a9221ae1ebca",
   "metadata": {},
   "source": [
    "### __7. Saving the model__:\n",
    "<font size=3>\n",
    "    \n",
    "[Checkout](https://keras.io/api/models/model_saving_apis/)."
   ]
  },
  {
   "cell_type": "code",
   "execution_count": 22,
   "id": "f1081edc-5c28-4431-baf3-166be9b7ac81",
   "metadata": {},
   "outputs": [],
   "source": [
    "# saving model's weights and bias:\n",
    "model.save_weights(\"../weights/model.weights.h5\")"
   ]
  },
  {
   "cell_type": "code",
   "execution_count": 23,
   "id": "ccae0f34-e98e-4cc8-a362-5215474c2dba",
   "metadata": {},
   "outputs": [],
   "source": [
    "# saving (x, y)-test arrays for future evaluations:\n",
    "np.save(\"../dataset/x_test.npy\", x_test)\n",
    "np.save(\"../dataset/y_test.npy\", y_test)"
   ]
  }
 ],
 "metadata": {
  "kernelspec": {
   "display_name": "Python 3 (ipykernel)",
   "language": "python",
   "name": "python3"
  },
  "language_info": {
   "codemirror_mode": {
    "name": "ipython",
    "version": 3
   },
   "file_extension": ".py",
   "mimetype": "text/x-python",
   "name": "python",
   "nbconvert_exporter": "python",
   "pygments_lexer": "ipython3",
   "version": "3.12.2"
  }
 },
 "nbformat": 4,
 "nbformat_minor": 5
}
