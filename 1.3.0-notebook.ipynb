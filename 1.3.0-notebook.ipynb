{
 "cells": [
  {
   "cell_type": "code",
   "execution_count": null,
   "id": "277c3dd3-9597-4731-9051-340815c9517b",
   "metadata": {},
   "outputs": [],
   "source": []
  },
  {
   "cell_type": "markdown",
   "id": "b8ba7112-8800-452f-8614-0908a99637a7",
   "metadata": {},
   "source": [
    "### __Deep Learning workflow:__\n",
    "<font size=3>\n",
    "    \n",
    "1. Import and data pre-processing;   \n",
    "2. Neural network modeling;\n",
    "3. Model compilation;\n",
    "4. Train and validation;\n",
    "5. Final training;\n",
    "6. Test evaluation;\n",
    "7. Saving the model."
   ]
  },
  {
   "cell_type": "markdown",
   "id": "56e02c34-a721-4728-a8f5-22efd2f5209e",
   "metadata": {},
   "source": [
    "### __1. Import and data pre-processing:__\n",
    "<font size=3>\n",
    "    \n",
    "1.1 Import data;\\\n",
    "1.2 Train and test tensor divition.\n",
    "\n",
    "Our first task will classify _normal_ and _abnormal_ orthopedic diagnoses from biomechanical features. Our data can be downloaded from the [Kaggle datasets](https://www.kaggle.com/datasets/uciml/biomechanical-features-of-orthopedic-patients?resource=download)."
   ]
  },
  {
   "cell_type": "code",
   "execution_count": null,
   "id": "dc798d16-acd6-4eb6-a9f9-2bfd01d7b180",
   "metadata": {},
   "outputs": [],
   "source": []
  },
  {
   "cell_type": "code",
   "execution_count": null,
   "id": "b797da98-2b49-4da3-bdde-dfe7e6a5af45",
   "metadata": {},
   "outputs": [],
   "source": []
  },
  {
   "cell_type": "markdown",
   "id": "1297d543-bb47-455f-9cc3-0e129221f760",
   "metadata": {},
   "source": [
    "### __2. Neural network modeling:__\n",
    "<font size=3>\n",
    "    \n",
    "2.1 Define initial layer's shape;\\\n",
    "2.2 Define output layer's shape and its [activation function](https://keras.io/api/layers/activations/);\\\n",
    "2.3 Define hidden layers.\n",
    "\n",
    "[Checkout Keras API](https://keras.io/guides/functional_api/)."
   ]
  },
  {
   "cell_type": "code",
   "execution_count": null,
   "id": "b666ab3b-0fc6-4ab1-8733-5ebac7dc2d37",
   "metadata": {},
   "outputs": [],
   "source": []
  },
  {
   "cell_type": "code",
   "execution_count": null,
   "id": "e2179a20-7088-4614-a403-c5fc5d444092",
   "metadata": {},
   "outputs": [],
   "source": []
  },
  {
   "cell_type": "markdown",
   "id": "626664fc-593b-4539-ac60-4903c5734b58",
   "metadata": {},
   "source": [
    "### __3. Model compilation:__\n",
    "<font size=3>\n",
    "\n",
    "3.1 Define [optimizer](https://keras.io/api/optimizers/);\\\n",
    "3.2 Define [loss function](https://keras.io/api/losses/);\\\n",
    "3.3 Define [validation metric](https://keras.io/api/metrics/).\n"
   ]
  },
  {
   "cell_type": "code",
   "execution_count": null,
   "id": "a5a84098-027b-43c5-ab82-b8120cf530ac",
   "metadata": {},
   "outputs": [],
   "source": []
  },
  {
   "cell_type": "code",
   "execution_count": null,
   "id": "d3f7b5fd-5e42-4835-ae42-ed0007a5e35d",
   "metadata": {},
   "outputs": [],
   "source": []
  },
  {
   "cell_type": "markdown",
   "id": "beda4521-0d6c-42fe-995f-dd52c4ae9bc1",
   "metadata": {},
   "source": [
    "### __4. Train and validation__\n",
    "<font size=3>\n",
    "    \n",
    "We'll skip to the __Final training__ since we want to make a naive model. In the next notebook, we'll make all the steps in detail.    "
   ]
  },
  {
   "cell_type": "markdown",
   "id": "1e8686e6-36cf-414e-8fed-238a7c2024ad",
   "metadata": {},
   "source": [
    "### __5. Final training__\n",
    "<font size=3>\n",
    "\n",
    "Once the modeling is completed, we concatenate train and validation data to fit again the model.\n",
    "\n",
    "__Note:__ use the same number of epochs from the previous step.\n",
    "    "
   ]
  },
  {
   "cell_type": "code",
   "execution_count": null,
   "id": "366787b1-9ded-4ddc-b321-859875db86d4",
   "metadata": {},
   "outputs": [],
   "source": []
  },
  {
   "cell_type": "code",
   "execution_count": null,
   "id": "6fc59ca5-11e8-42b9-accb-a55520bc85b1",
   "metadata": {},
   "outputs": [],
   "source": []
  },
  {
   "cell_type": "markdown",
   "id": "c0e875dc-7d57-42fb-a03b-19948e2de183",
   "metadata": {},
   "source": [
    "### __6. Test evaluation__:\n",
    "\n",
    "    6.1 Make the evaluation using the test data;\n",
    "    6.1 Make some predictions to visualize the results;\n",
    "   "
   ]
  },
  {
   "cell_type": "code",
   "execution_count": null,
   "id": "7e91bd47-73db-466b-bde7-84a08dafc52a",
   "metadata": {},
   "outputs": [],
   "source": []
  },
  {
   "cell_type": "code",
   "execution_count": null,
   "id": "2648b563-5db0-40ec-8d8a-65c9f1e0f2f4",
   "metadata": {},
   "outputs": [],
   "source": []
  },
  {
   "cell_type": "markdown",
   "id": "dd1006c9-50c7-4341-a265-a9221ae1ebca",
   "metadata": {},
   "source": [
    "### __7. Saving the model__:\n",
    "<font size=3>\n",
    "    \n",
    "[Checkout]((https://keras.io/guides/serialization_and_saving/))."
   ]
  }
 ],
 "metadata": {
  "kernelspec": {
   "display_name": "Python 3 (ipykernel)",
   "language": "python",
   "name": "python3"
  },
  "language_info": {
   "codemirror_mode": {
    "name": "ipython",
    "version": 3
   },
   "file_extension": ".py",
   "mimetype": "text/x-python",
   "name": "python",
   "nbconvert_exporter": "python",
   "pygments_lexer": "ipython3",
   "version": "3.10.12"
  }
 },
 "nbformat": 4,
 "nbformat_minor": 5
}
