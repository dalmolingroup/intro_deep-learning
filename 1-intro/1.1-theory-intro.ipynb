{
 "cells": [
  {
   "cell_type": "markdown",
   "id": "1eb952f7-177d-491c-994b-e64665fa733a",
   "metadata": {},
   "source": [
    "## __1. Introduction to Deep Learning__\n",
    "\n",
    "<font size=3>\n",
    "What is Deep Learning really?\n",
    "\n",
    "First, let's look at the broad area of [Artificial Intelligence](https://en.wikipedia.org/wiki/Artificial_intelligence) (AI), which considers any form of automation that mimics human behavior, a technology containing artificial intelligence. So computational algorithms, devices with sensors, etc, can perform intelligent behaviors.\n",
    "\n",
    "[Machine Learning](https://en.wikipedia.org/wiki/Machine_learning) (ML) is an AI approach that uses datasets to _\"learn\"_ their features/patterns and perform tasks. Its methods include [Naive Bayes classifier](https://en.wikipedia.org/wiki/Naive_Bayes_classifier), [Random Forest](https://en.wikipedia.org/wiki/Random_forest), [t-SNE](https://en.wikipedia.org/wiki/T-distributed_stochastic_neighbor_embedding), [DBSCAN](https://en.wikipedia.org/wiki/DBSCAN), and [Artificial Neural Networks](https://en.wikipedia.org/wiki/Neural_network_(machine_learning)) (ANN).\n",
    "\n",
    "This last approach is based on the mathematical modeling of (biological) neural networks, where the firing of artificial neurons generates a \"pathway\" between the input data and the network model's output. Models with only one layer of neurons as output are called Shallow Learning models. On the other hand, models that present multiple layers, among the input and output, encode the data patterns in more detail/depth during training. Thus, they are called [Deep Learning](https://en.wikipedia.org/wiki/Deep_learning) models (this terminology was coined by [Rina Dechter, 1980](https://aaai.org/papers/00178-aaai86-029-learning-while-searching-in-constraint-satisfaction-problems/) ).\n",
    "\n",
    "<center>\n",
    "<img src=\"../figs/net_intro.png\" width=\"300\"/>\n",
    "</center>\n",
    "\n",
    "In short, Deep Learning is just a branch of the Machine Learning area, which has been developing since the 1960s. So why is there so much _hype_ in DL, among other forms of ML? Well, one advantage we can point out is the ability to model increasingly robust (deeper) neural networks to solve more complex problems.\n",
    "\n",
    "<center>\n",
    "<img src=\"../figs/scheme.png\" width=\"300\"/>\n",
    "</center>\n",
    "\n",
    "It is important to emphasize that there is no formal consensus on such definitions in this scientific community. For more information: [Deep Learning with Python](https://books.google.com.br/books/about/Deep_Learning_with_Python.html?id=Yo3CAQAACAAJ&redir_esc=y).\n",
    "\n",
    "---"
   ]
  },
  {
   "attachments": {},
   "cell_type": "markdown",
   "id": "62136896-dad5-4270-9d63-dfffc52a1676",
   "metadata": {},
   "source": [
    "## __2. The three main learning approaches__:\n",
    "<font size=3>\n",
    "\n",
    "#### __Supervised learning:__\n",
    "\n",
    "In a supervised model, the input dataset $x$ has a correlated target $y$. The model is optimized so that given the input $x$, its prediction $\\bar y$ comes as close as possible to $y$, _i.e._ $(y-\\bar y) \\approx 0$. Thus, we can perform _classification_ and _regression_ tasks, for example.\n",
    "\n",
    "> Dataset: $(x,\\,y)$\n",
    "\n",
    "#### __Unsupervised learning:__\n",
    "\n",
    "For unsupervised tasks, we only have the input data $x$ for feature extraction to make, por instance, _clustering_ and data _dimensionality reduction_.\n",
    "\n",
    "> Dataset: $x$\n",
    "\n",
    "#### __Reinforcement learning:__\n",
    "<font size=3>\n",
    "\n",
    "Originally, reinforcement learning arose for games that use ML to defeat the player. For instance, in a game of chess, a move $x$ from a given piece results to a score $s$. The model is trained to optimize the score and return the best moves $\\bar x$. This approach is also used to solve differential equations, such as $f'(t) + 2\\,f(t) + 1 = 0$.\n",
    "\n",
    "> Dataset: $(x,\\,s)$\n",
    "\n",
    "---"
   ]
  },
  {
   "cell_type": "markdown",
   "id": "32c76fa4-58d6-47f8-bf26-22783fb76d18",
   "metadata": {},
   "source": [
    "## __3. Deep Learning workflow:__\n",
    "<font size=3>\n",
    "    \n",
    "1. Import and data pre-processing;   \n",
    "2. Neural network modeling;\n",
    "3. Model compilation;\n",
    "4. Train and validation;\n",
    "5. Final training;\n",
    "6. Test evaluation;\n",
    "7. Saving the model."
   ]
  }
 ],
 "metadata": {
  "kernelspec": {
   "display_name": "Python 3 (ipykernel)",
   "language": "python",
   "name": "python3"
  },
  "language_info": {
   "codemirror_mode": {
    "name": "ipython",
    "version": 3
   },
   "file_extension": ".py",
   "mimetype": "text/x-python",
   "name": "python",
   "nbconvert_exporter": "python",
   "pygments_lexer": "ipython3",
   "version": "3.12.2"
  }
 },
 "nbformat": 4,
 "nbformat_minor": 5
}
